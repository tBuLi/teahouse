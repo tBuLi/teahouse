{
 "cells": [
  {
   "cell_type": "markdown",
   "id": "d3ad6a1879514082",
   "metadata": {},
   "source": [
    "# Mother Algebra $\\mathbb{R}_{4,4}$\n",
    "\n",
    "Paper: https://link.springer.com/article/10.1007/s00006-017-0798-7.\n",
    "Example taken from https://enkimute.github.io/ganja.js/examples/coffeeshop.html#mga3d_points_and_lines.\n",
    "\n",
    "We start by initializing the algebra $\\mathbb{R}_{4,4}$."
   ]
  },
  {
   "cell_type": "code",
   "execution_count": null,
   "id": "2923fed6-c327-45ae-a864-0e85614c09ea",
   "metadata": {},
   "outputs": [],
   "source": [
    "%pip install -q kingdon anywidget==0.9.9 ipywidgets==8.1.3"
   ]
  },
  {
   "cell_type": "code",
   "execution_count": null,
   "id": "ea3e264679ea7ff",
   "metadata": {
    "ExecuteTime": {
     "end_time": "2025-07-01T06:45:14.362112Z",
     "start_time": "2025-07-01T06:45:13.134718Z"
    }
   },
   "outputs": [],
   "source": [
    "from kingdon import Algebra\n",
    "from math import sin, cos, pi\n",
    "from random import random\n",
    "import timeit\n",
    "\n",
    "alg = Algebra(4,4)"
   ]
  },
  {
   "cell_type": "markdown",
   "id": "082f1a19-2879-4f80-a561-432f4e469483",
   "metadata": {},
   "source": [
    "Similar to CGA we need to make a Witt basis, but now we have four Witt pairs."
   ]
  },
  {
   "cell_type": "code",
   "execution_count": null,
   "id": "dd16387537223d5a",
   "metadata": {
    "ExecuteTime": {
     "end_time": "2025-07-01T06:45:14.408530Z",
     "start_time": "2025-07-01T06:45:14.369198Z"
    }
   },
   "outputs": [],
   "source": [
    "e1, e2, e3, e4 = pos = [alg.blades[key] for key in ['e1', 'e2', 'e3', 'e4']]\n",
    "e5, e6, e7, e8 = neg = [alg.blades[key] for key in ['e5', 'e6', 'e7', 'e8']]\n",
    "witt_pairs = [(0.5 * (ep + em), 0.5 * (ep - em)) for ep, em in zip(pos, neg)]\n",
    "(w0, w1, w2, w3), (wd0, wd1, wd2, wd3) = zip(*witt_pairs)\n",
    "e1234 = e1*e2*e3*e4"
   ]
  },
  {
   "cell_type": "markdown",
   "id": "1e2833a6-854e-4f58-a38a-7efd1a013d7a",
   "metadata": {},
   "source": [
    "Points in the spinor space $W$ of $\\mathbb{R}_{4,4}$:"
   ]
  },
  {
   "cell_type": "code",
   "execution_count": null,
   "id": "79ac9da069ca407a",
   "metadata": {
    "ExecuteTime": {
     "end_time": "2025-07-01T06:45:14.564478Z",
     "start_time": "2025-07-01T06:45:14.550446Z"
    }
   },
   "outputs": [],
   "source": [
    "def vec(x,y,z):\n",
    "    return x*w1+y*w2+z*w3\n",
    "\n",
    "def pnt(x,y,z):\n",
    "    return x*w1+y*w2+z*w3+w0\n",
    "\n",
    "def normalized(x):\n",
    "    return x / abs(x.sp(x).e)**0.5"
   ]
  },
  {
   "cell_type": "markdown",
   "id": "63a4bb21-92eb-456f-b66b-36b69f768941",
   "metadata": {},
   "source": [
    "Planes in the spinor space $W^*$ of $\\mathbb{R}_{4,4}$:"
   ]
  },
  {
   "cell_type": "code",
   "execution_count": null,
   "id": "43ad2a83-55e8-483f-b95e-60a5bac6c279",
   "metadata": {
    "ExecuteTime": {
     "end_time": "2025-07-01T06:45:14.564478Z",
     "start_time": "2025-07-01T06:45:14.550446Z"
    }
   },
   "outputs": [],
   "source": [
    "def plane_dual(d,a,b,c):\n",
    "    return d*wd0+a*wd1+b*wd2+c*wd3"
   ]
  },
  {
   "cell_type": "markdown",
   "id": "59a66f0f-4b68-4cf4-a64d-995a393cbb7b",
   "metadata": {},
   "source": [
    "Lines, Planes, Solid sectors in $W$"
   ]
  },
  {
   "cell_type": "code",
   "execution_count": null,
   "id": "61d4e500-b0a8-4dfc-a15b-cedf3df1675d",
   "metadata": {
    "ExecuteTime": {
     "end_time": "2025-07-01T06:45:14.564478Z",
     "start_time": "2025-07-01T06:45:14.550446Z"
    }
   },
   "outputs": [],
   "source": [
    "lin = lambda p1,p2: p1^p2\n",
    "pln = lambda p1,p2,p3: p1^p2^p3\n",
    "sct = lambda p1,p2,p3,p4: p1^p2^p3^p4"
   ]
  },
  {
   "cell_type": "markdown",
   "id": "9ba78d45-af67-43ba-96ca-556b9879c423",
   "metadata": {},
   "source": [
    "Lines and Planes in $W^*$"
   ]
  },
  {
   "cell_type": "code",
   "execution_count": null,
   "id": "c793941d-14a7-4d34-9fed-9a39a3b2fafa",
   "metadata": {
    "ExecuteTime": {
     "end_time": "2025-07-01T06:45:14.564478Z",
     "start_time": "2025-07-01T06:45:14.550446Z"
    }
   },
   "outputs": [],
   "source": [
    "lin_dual = lambda P1,P2: P1^P2\n",
    "pnt_dual = lambda P1,P2,P3: P1^P2^P3"
   ]
  },
  {
   "cell_type": "code",
   "execution_count": null,
   "id": "58af06ba8ec3e2f6",
   "metadata": {
    "ExecuteTime": {
     "end_time": "2025-07-01T06:45:18.229305Z",
     "start_time": "2025-07-01T06:45:17.544225Z"
    }
   },
   "outputs": [],
   "source": [
    "def graph_func():\n",
    "    return [\n",
    "        0x00ff00, e1234*pnt(0,0,0),\n",
    "        0xff0000, e1234*(pnt(-2,0,0)^pnt(1,1,1)),\n",
    "      ]\n",
    "\n",
    "alg.graph(\n",
    "    graph_func,\n",
    "    animate=1,\n",
    "    spin=1,\n",
    "    thresh=0.15,\n",
    "    width='800px',\n",
    "    height='600px',\n",
    "    up=pnt,\n",
    ")"
   ]
  },
  {
   "cell_type": "code",
   "execution_count": null,
   "id": "200efaa3-c4dc-4ffb-80bd-41852a2a5e30",
   "metadata": {},
   "outputs": [],
   "source": []
  }
 ],
 "metadata": {
  "kernelspec": {
   "display_name": "Python 3 (ipykernel)",
   "language": "python",
   "name": "python3"
  },
  "language_info": {
   "codemirror_mode": {
    "name": "ipython",
    "version": 3
   },
   "file_extension": ".py",
   "mimetype": "text/x-python",
   "name": "python",
   "nbconvert_exporter": "python",
   "pygments_lexer": "ipython3",
   "version": "3.10.14"
  }
 },
 "nbformat": 4,
 "nbformat_minor": 5
}
