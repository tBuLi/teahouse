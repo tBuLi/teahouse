{
 "cells": [
  {
   "cell_type": "markdown",
   "id": "d3ad6a1879514082",
   "metadata": {},
   "source": [
    "# 3D CCGA\n",
    "\n",
    "Paper: https://link.springer.com/article/10.1007/s00006-014-0442-8.\n",
    "Example taken from https://enkimute.github.io/ganja.js/examples/coffeeshop.html#ccga3d_points_quadrics.\n",
    "\n",
    "We start by initializing the algebra $\\mathbb{R}_{6,3}$."
   ]
  },
  {
   "cell_type": "code",
   "execution_count": 1,
   "id": "2923fed6-c327-45ae-a864-0e85614c09ea",
   "metadata": {},
   "outputs": [
    {
     "name": "stdout",
     "output_type": "stream",
     "text": [
      "Note: you may need to restart the kernel to use updated packages.\n"
     ]
    }
   ],
   "source": [
    "%pip install -q kingdon anywidget==0.9.9 ipywidgets==8.1.3"
   ]
  },
  {
   "cell_type": "code",
   "execution_count": 2,
   "id": "ea3e264679ea7ff",
   "metadata": {
    "ExecuteTime": {
     "end_time": "2025-07-01T06:45:14.362112Z",
     "start_time": "2025-07-01T06:45:13.134718Z"
    }
   },
   "outputs": [],
   "source": [
    "from kingdon import Algebra\n",
    "from math import sin, cos, pi\n",
    "from random import random\n",
    "import timeit\n",
    "\n",
    "alg = Algebra(6, 3)"
   ]
  },
  {
   "cell_type": "markdown",
   "id": "082f1a19-2879-4f80-a561-432f4e469483",
   "metadata": {},
   "source": [
    "Similar to CGA we need to make a Witt basis, but now we have three Witt pairs. The basis vectors $\\mathbf{e}_1$, $\\mathbf{e}_2$ and $\\mathbf{e}_3$ remain for the $(x, y, z)$ coordinates."
   ]
  },
  {
   "cell_type": "code",
   "execution_count": 3,
   "id": "dd16387537223d5a",
   "metadata": {
    "ExecuteTime": {
     "end_time": "2025-07-01T06:45:14.408530Z",
     "start_time": "2025-07-01T06:45:14.369198Z"
    }
   },
   "outputs": [
    {
     "data": {
      "text/plain": [
       "1 𝐞₁₂₃₄₅₆₇₈₉"
      ]
     },
     "execution_count": 3,
     "metadata": {},
     "output_type": "execute_result"
    }
   ],
   "source": [
    "e1, e2, e3 = [alg.vector({key: 1}) for key in ['e1', 'e2', 'e3']]\n",
    "e4, e5, e6 = pos = [alg.vector({key: 1}) for key in ['e4', 'e5', 'e6']]\n",
    "e7, e8, e9 = neg = [alg.vector({key: 1}) for key in ['e7', 'e8', 'e9']]\n",
    "witt_pairs = [((ep + em), 0.5 * (em - ep)) for ep, em in zip(pos, neg)]\n",
    "(eix,eiy,eiz), (eox,eoy,eoz) = zip(*witt_pairs)\n",
    "ei = (eix+eiy+eiz)*(1/3)\n",
    "eo = eox+eoy+eoz\n",
    "pss = alg.pseudoscalar(e123456789=1)\n",
    "pss"
   ]
  },
  {
   "cell_type": "markdown",
   "id": "1e2833a6-854e-4f58-a38a-7efd1a013d7a",
   "metadata": {},
   "source": [
    "Some primitives:"
   ]
  },
  {
   "cell_type": "code",
   "execution_count": 4,
   "id": "79ac9da069ca407a",
   "metadata": {
    "ExecuteTime": {
     "end_time": "2025-07-01T06:45:14.564478Z",
     "start_time": "2025-07-01T06:45:14.550446Z"
    }
   },
   "outputs": [],
   "source": [
    "point_basis = [e1,e2,e3,eix,eiy,eiz,eo]\n",
    "ellipsoid_basis = [e1,e2,e3,ei,eox,eoy,eoz]\n",
    "\n",
    "def point(x, y, z):\n",
    "    coeffs = [x,y,z,.5*x**2,.5*y**2,.5*z**2,1]\n",
    "    return sum(coeff*base for coeff, base in zip(coeffs, point_basis))\n",
    "\n",
    "def ellipsoid(h,k,l,a,b,c):\n",
    "    coeffs = [h*a**-2,k*b**-2,l*c**-2,.5*(h**2*a**-2+k**2*b**-2+l**2*c**-2-1),a**-2,b**-2,c**-2]\n",
    "    return sum(coeff*base for coeff, base in zip(coeffs, ellipsoid_basis))\n",
    "    \n",
    "def plane(x,y,z,d):\n",
    "    return x*e1+y*e2+z*e3+d*ei\n",
    "\n",
    "def normalized(x):\n",
    "    return x / abs(x.sp(x).e)**0.5"
   ]
  },
  {
   "cell_type": "markdown",
   "id": "7811f4c2-660e-4d68-a962-534b5d756232",
   "metadata": {},
   "source": [
    "Create an ellipsoid, plane and their intersection."
   ]
  },
  {
   "cell_type": "code",
   "execution_count": 5,
   "id": "d32be396b994f9a2",
   "metadata": {
    "ExecuteTime": {
     "end_time": "2025-07-01T06:45:14.642583Z",
     "start_time": "2025-07-01T06:45:14.581451Z"
    }
   },
   "outputs": [
    {
     "data": {
      "text/plain": [
       "(-0.292 𝐞₄ + -0.222 𝐞₅ + -0.292 𝐞₆ + -0.0417 𝐞₇ + -0.111 𝐞₈ + -0.0417 𝐞₉,\n",
       " 0.9 𝐞₁ + 0.3 𝐞₂,\n",
       " 0.613 𝐞₁₄ + 0.467 𝐞₁₅ + 0.613 𝐞₁₆ + 0.0876 𝐞₁₇ + 0.234 𝐞₁₈ + 0.0876 𝐞₁₉ + 0.204 𝐞₂₄ + 0.156 𝐞₂₅ + 0.204 𝐞₂₆ + 0.0292 𝐞₂₇ + 0.0778 𝐞₂₈ + 0.0292 𝐞₂₉)"
      ]
     },
     "execution_count": 5,
     "metadata": {},
     "output_type": "execute_result"
    }
   ],
   "source": [
    "E = ellipsoid(0,0,0,2,3,2)\n",
    "P = plane(0.9,0.3,0.0,0.0)\n",
    "e = normalized(E^P)\n",
    "E, P, e"
   ]
  },
  {
   "cell_type": "code",
   "execution_count": 6,
   "id": "58af06ba8ec3e2f6",
   "metadata": {
    "ExecuteTime": {
     "end_time": "2025-07-01T06:45:18.229305Z",
     "start_time": "2025-07-01T06:45:17.544225Z"
    }
   },
   "outputs": [
    {
     "data": {
      "application/vnd.jupyter.widget-view+json": {
       "model_id": "c6bf392d5b5546b0ad25d6b417a4cf28",
       "version_major": 2,
       "version_minor": 1
      },
      "text/plain": [
       "GraphWidget(cayley=[['1', 'e1', 'e2', 'e3', 'e4', 'e5', 'e6', 'e7', 'e8', 'e9', 'e12', 'e13', 'e14', 'e15', 'e…"
      ]
     },
     "execution_count": 6,
     "metadata": {},
     "output_type": "execute_result"
    }
   ],
   "source": [
    "def graph_func():\n",
    "    return [\n",
    "        0xff8800, pss*E,\n",
    "        0x0088ff, pss*e,\n",
    "    ]\n",
    "\n",
    "g = alg.graph(\n",
    "    graph_func,\n",
    "    animate=1,\n",
    "    spin=1,\n",
    "    thresh=0.15,\n",
    "    # width='100%',\n",
    "    up=point,\n",
    ")\n",
    "g"
   ]
  },
  {
   "cell_type": "code",
   "execution_count": null,
   "id": "572a02d7-144d-4867-9bd6-62c5d7c0dff0",
   "metadata": {},
   "outputs": [],
   "source": []
  }
 ],
 "metadata": {
  "kernelspec": {
   "display_name": "Python 3 (ipykernel)",
   "language": "python",
   "name": "python3"
  },
  "language_info": {
   "codemirror_mode": {
    "name": "ipython",
    "version": 3
   },
   "file_extension": ".py",
   "mimetype": "text/x-python",
   "name": "python",
   "nbconvert_exporter": "python",
   "pygments_lexer": "ipython3",
   "version": "3.10.14"
  }
 },
 "nbformat": 4,
 "nbformat_minor": 5
}
