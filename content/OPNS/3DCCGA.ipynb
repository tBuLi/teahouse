{
 "cells": [
  {
   "cell_type": "markdown",
   "id": "d3ad6a1879514082",
   "metadata": {},
   "source": [
    "# 3D CCGA\n",
    "\n",
    "Paper: https://link.springer.com/article/10.1007/s00006-014-0442-8.\n",
    "Example taken from https://enkimute.github.io/ganja.js/examples/coffeeshop.html#ccga3d_points_quadrics.\n",
    "\n",
    "We start by initializing the algebra $\\mathbb{R}_{6,3}$."
   ]
  },
  {
   "cell_type": "code",
   "execution_count": null,
   "id": "2923fed6-c327-45ae-a864-0e85614c09ea",
   "metadata": {},
   "outputs": [],
   "source": [
    "%pip install -q kingdon anywidget==0.9.9 ipywidgets==8.1.3"
   ]
  },
  {
   "cell_type": "code",
   "execution_count": null,
   "id": "ea3e264679ea7ff",
   "metadata": {
    "ExecuteTime": {
     "end_time": "2025-07-01T06:45:14.362112Z",
     "start_time": "2025-07-01T06:45:13.134718Z"
    }
   },
   "outputs": [],
   "source": [
    "from kingdon import Algebra\n",
    "from math import sin, cos, pi\n",
    "from random import random\n",
    "import timeit\n",
    "\n",
    "alg = Algebra(6, 3)"
   ]
  },
  {
   "cell_type": "markdown",
   "id": "082f1a19-2879-4f80-a561-432f4e469483",
   "metadata": {},
   "source": [
    "Similar to CGA we need to make a Witt basis, but now we have three Witt pairs. The basis vectors $\\mathbf{e}_1$, $\\mathbf{e}_2$ and $\\mathbf{e}_3$ remain for the $(x, y, z)$ coordinates."
   ]
  },
  {
   "cell_type": "code",
   "execution_count": null,
   "id": "dd16387537223d5a",
   "metadata": {
    "ExecuteTime": {
     "end_time": "2025-07-01T06:45:14.408530Z",
     "start_time": "2025-07-01T06:45:14.369198Z"
    }
   },
   "outputs": [],
   "source": [
    "e1, e2, e3 = [alg.blades[key] for key in ['e1', 'e2', 'e3']]\n",
    "e4, e5, e6 = pos = [alg.blades[key] for key in ['e4', 'e5', 'e6']]\n",
    "e7, e8, e9 = neg = [alg.blades[key] for key in ['e7', 'e8', 'e9']]\n",
    "witt_pairs = [((ep + em), 0.5 * (em - ep)) for ep, em in zip(pos, neg)]\n",
    "(eix,eiy,eiz), (eox,eoy,eoz) = zip(*witt_pairs)\n",
    "ei = (eix+eiy+eiz)*(1/3)\n",
    "eo = eox+eoy+eoz\n",
    "pss = alg.pseudoscalar(e123456789=1)\n",
    "pss"
   ]
  },
  {
   "cell_type": "markdown",
   "id": "1e2833a6-854e-4f58-a38a-7efd1a013d7a",
   "metadata": {},
   "source": [
    "Some primitives:"
   ]
  },
  {
   "cell_type": "code",
   "execution_count": null,
   "id": "79ac9da069ca407a",
   "metadata": {
    "ExecuteTime": {
     "end_time": "2025-07-01T06:45:14.564478Z",
     "start_time": "2025-07-01T06:45:14.550446Z"
    }
   },
   "outputs": [],
   "source": [
    "point_basis = [e1,e2,e3,eix,eiy,eiz,eo]\n",
    "ellipsoid_basis = [e1,e2,e3,ei,eox,eoy,eoz]\n",
    "\n",
    "def point(x, y, z):\n",
    "    coeffs = [x,y,z,.5*x**2,.5*y**2,.5*z**2,1]\n",
    "    return sum(coeff*base for coeff, base in zip(coeffs, point_basis))\n",
    "\n",
    "def ellipsoid(h,k,l,a,b,c):\n",
    "    coeffs = [h*a**-2,k*b**-2,l*c**-2,.5*(h**2*a**-2+k**2*b**-2+l**2*c**-2-1),a**-2,b**-2,c**-2]\n",
    "    return sum(coeff*base for coeff, base in zip(coeffs, ellipsoid_basis))\n",
    "    \n",
    "def plane(x,y,z,d):\n",
    "    return x*e1+y*e2+z*e3+d*ei\n",
    "\n",
    "def normalized(x):\n",
    "    return x / abs(x.sp(x).e)**0.5"
   ]
  },
  {
   "cell_type": "markdown",
   "id": "7811f4c2-660e-4d68-a962-534b5d756232",
   "metadata": {},
   "source": [
    "Create an ellipsoid, plane and their intersection."
   ]
  },
  {
   "cell_type": "code",
   "execution_count": null,
   "id": "d32be396b994f9a2",
   "metadata": {
    "ExecuteTime": {
     "end_time": "2025-07-01T06:45:14.642583Z",
     "start_time": "2025-07-01T06:45:14.581451Z"
    }
   },
   "outputs": [],
   "source": [
    "E = ellipsoid(0,0,0,2,3,2)\n",
    "P = plane(0.9,0.3,0.0,0.0)\n",
    "e = normalized(E^P)\n",
    "E, P, e"
   ]
  },
  {
   "cell_type": "code",
   "execution_count": null,
   "id": "58af06ba8ec3e2f6",
   "metadata": {
    "ExecuteTime": {
     "end_time": "2025-07-01T06:45:18.229305Z",
     "start_time": "2025-07-01T06:45:17.544225Z"
    }
   },
   "outputs": [],
   "source": [
    "def graph_func():\n",
    "    return [\n",
    "        0xff8800, pss*E,\n",
    "        0x0088ff, pss*e,\n",
    "    ]\n",
    "\n",
    "g = alg.graph(\n",
    "    graph_func,\n",
    "    animate=1,\n",
    "    spin=1,\n",
    "    width='500px',\n",
    "    height='800px',\n",
    "    up=point,\n",
    ")\n",
    "g"
   ]
  },
  {
   "cell_type": "code",
   "execution_count": null,
   "id": "572a02d7-144d-4867-9bd6-62c5d7c0dff0",
   "metadata": {},
   "outputs": [],
   "source": []
  }
 ],
 "metadata": {
  "kernelspec": {
   "display_name": "Python 3 (ipykernel)",
   "language": "python",
   "name": "python3"
  },
  "language_info": {
   "codemirror_mode": {
    "name": "ipython",
    "version": 3
   },
   "file_extension": ".py",
   "mimetype": "text/x-python",
   "name": "python",
   "nbconvert_exporter": "python",
   "pygments_lexer": "ipython3",
   "version": "3.10.14"
  }
 },
 "nbformat": 4,
 "nbformat_minor": 5
}
