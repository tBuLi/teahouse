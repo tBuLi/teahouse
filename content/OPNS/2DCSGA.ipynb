{
 "cells": [
  {
   "cell_type": "markdown",
   "id": "d3ad6a1879514082",
   "metadata": {},
   "source": [
    "# 2D CSGA: An algebra for conic sections\n",
    "\n",
    "Paper: https://link.springer.com/article/10.1007/s00006-018-0879-2.\n",
    "Example taken from https://enkimute.github.io/ganja.js/examples/coffeeshop.html#csga2d_opns.\n",
    "\n",
    "We start by initializing the algebra $\\mathbb{R}_{5,3}$."
   ]
  },
  {
   "cell_type": "code",
   "execution_count": 1,
   "id": "2923fed6-c327-45ae-a864-0e85614c09ea",
   "metadata": {},
   "outputs": [
    {
     "name": "stdout",
     "output_type": "stream",
     "text": [
      "Note: you may need to restart the kernel to use updated packages.\n"
     ]
    }
   ],
   "source": [
    "%pip install -q kingdon anywidget==0.9.9 ipywidgets==8.1.3"
   ]
  },
  {
   "cell_type": "code",
   "execution_count": 2,
   "id": "ea3e264679ea7ff",
   "metadata": {
    "ExecuteTime": {
     "end_time": "2025-07-01T06:45:14.362112Z",
     "start_time": "2025-07-01T06:45:13.134718Z"
    }
   },
   "outputs": [],
   "source": [
    "from kingdon import Algebra\n",
    "from math import sin, cos, pi\n",
    "from random import random\n",
    "import timeit\n",
    "\n",
    "alg = Algebra(5, 3)"
   ]
  },
  {
   "cell_type": "markdown",
   "id": "082f1a19-2879-4f80-a561-432f4e469483",
   "metadata": {},
   "source": [
    "Similar to CGA we need to make a Witt basis, but now we have three Witt pairs. The basis vectors $\\mathbf{e}_1$ and $\\mathbf{e}_2$ remain for the $(x, y)$ coordinates."
   ]
  },
  {
   "cell_type": "code",
   "execution_count": 3,
   "id": "dd16387537223d5a",
   "metadata": {
    "ExecuteTime": {
     "end_time": "2025-07-01T06:45:14.408530Z",
     "start_time": "2025-07-01T06:45:14.369198Z"
    }
   },
   "outputs": [],
   "source": [
    "e1, e2 = [alg.vector({key: 1}) for key in ['e1', 'e2']]\n",
    "p1, p2, p3 = [alg.vector({key: 1}) for key in ['e3', 'e4', 'e5']]\n",
    "n1, n2, n3 = [alg.vector({key: 1}) for key in ['e6', 'e7', 'e8']]\n",
    "  \n",
    "# infinity (i) and origin (o) : plus (p), minus (m), times (t). \n",
    "ip, im, it = [n1-p1,n2-p2,n3-p3]\n",
    "op, om, ot = alg.scalar(e=0.5) * [n1+p1,n2+p2,n3+p3]"
   ]
  },
  {
   "cell_type": "markdown",
   "id": "1e2833a6-854e-4f58-a38a-7efd1a013d7a",
   "metadata": {},
   "source": [
    "We then define the 'up' (C) function that takes a Euclidean point and casts it into $\\mathbb{R}_{5,3}$. Moreover, we need to define normalization in such a way that the norm is always positive."
   ]
  },
  {
   "cell_type": "code",
   "execution_count": 4,
   "id": "79ac9da069ca407a",
   "metadata": {
    "ExecuteTime": {
     "end_time": "2025-07-01T06:45:14.564478Z",
     "start_time": "2025-07-01T06:45:14.550446Z"
    }
   },
   "outputs": [],
   "source": [
    "def up(x,y):\n",
    "    return op + x*e1 + y*e2 + 0.5*(x*x+y*y)*ip + 0.5*(x*x-y*y)*im + x*y*it\n",
    "\n",
    "def normalized(x):\n",
    "    return x / abs(x.sp(x).e)**0.5"
   ]
  },
  {
   "cell_type": "markdown",
   "id": "7811f4c2-660e-4d68-a962-534b5d756232",
   "metadata": {},
   "source": [
    "We then generate 3 random points on a circle:"
   ]
  },
  {
   "cell_type": "code",
   "execution_count": 5,
   "id": "d32be396b994f9a2",
   "metadata": {
    "ExecuteTime": {
     "end_time": "2025-07-01T06:45:14.642583Z",
     "start_time": "2025-07-01T06:45:14.581451Z"
    }
   },
   "outputs": [
    {
     "data": {
      "text/plain": [
       "(0.444 𝐞₁ + 0.896 𝐞₂ + 0.303 𝐞₄ + -0.398 𝐞₅ + 1.0 𝐞₆ + -0.303 𝐞₇ + 0.398 𝐞₈,\n",
       " -0.77 𝐞₁ + 0.639 𝐞₂ + -0.0923 𝐞₄ + 0.491 𝐞₅ + 1.0 𝐞₆ + 0.0923 𝐞₇ + -0.491 𝐞₈,\n",
       " 0.909 𝐞₁ + -0.416 𝐞₂ + -0.327 𝐞₄ + 0.378 𝐞₅ + 1.0 𝐞₆ + 0.327 𝐞₇ + -0.378 𝐞₈)"
      ]
     },
     "execution_count": 5,
     "metadata": {},
     "output_type": "execute_result"
    }
   ],
   "source": [
    "thetas = [random()*2*pi for _ in range(3)]\n",
    "P0, P1, P2 = [up(sin(theta), cos(theta)) for theta in thetas]\n",
    "P0, P1, P2"
   ]
  },
  {
   "cell_type": "markdown",
   "id": "493571fc2ef930d5",
   "metadata": {},
   "source": [
    "And wedge them together into a circle:"
   ]
  },
  {
   "cell_type": "code",
   "execution_count": 6,
   "id": "ebdee1148da74ad4",
   "metadata": {
    "ExecuteTime": {
     "end_time": "2025-07-01T06:45:15.580368Z",
     "start_time": "2025-07-01T06:45:15.276524Z"
    }
   },
   "outputs": [
    {
     "data": {
      "text/plain": [
       "1.0 𝐞₁₂₄₅₆₇₈"
      ]
     },
     "execution_count": 6,
     "metadata": {},
     "output_type": "execute_result"
    }
   ],
   "source": [
    "circle_opns = normalized(P0^P1^P2^im^it^om^ot)\n",
    "circle_opns"
   ]
  },
  {
   "cell_type": "markdown",
   "id": "2918d16806242856",
   "metadata": {},
   "source": [
    "Do a line too:"
   ]
  },
  {
   "cell_type": "code",
   "execution_count": 7,
   "id": "e935b5faba64e913",
   "metadata": {
    "ExecuteTime": {
     "end_time": "2025-07-01T06:45:16.224958Z",
     "start_time": "2025-07-01T06:45:16.144391Z"
    }
   },
   "outputs": [],
   "source": [
    "line_opns = normalized(P0^P1^ip^im^it^om^ot)"
   ]
  },
  {
   "cell_type": "markdown",
   "id": "5a7cee44165badfc",
   "metadata": {},
   "source": [
    "Axis aligned Conic (with one point missing) (we'll animate that last point)"
   ]
  },
  {
   "cell_type": "code",
   "execution_count": 8,
   "id": "ee9f78d271ffd848",
   "metadata": {
    "ExecuteTime": {
     "end_time": "2025-07-01T06:45:17.119903Z",
     "start_time": "2025-07-01T06:45:17.009994Z"
    }
   },
   "outputs": [],
   "source": [
    "conic_minus_one_point_opns = P0^P1^P2^it^om^ot"
   ]
  },
  {
   "cell_type": "code",
   "execution_count": 9,
   "id": "58af06ba8ec3e2f6",
   "metadata": {
    "ExecuteTime": {
     "end_time": "2025-07-01T06:45:18.229305Z",
     "start_time": "2025-07-01T06:45:17.544225Z"
    }
   },
   "outputs": [
    {
     "data": {
      "application/vnd.jupyter.widget-view+json": {
       "model_id": "69c02b806ead4ac5a35bdc63509421c7",
       "version_major": 2,
       "version_minor": 1
      },
      "text/plain": [
       "GraphWidget(cayley=[['1', 'e1', 'e2', 'e3', 'e4', 'e5', 'e6', 'e7', 'e8', 'e12', 'e13', 'e14', 'e15', 'e16', '…"
      ]
     },
     "execution_count": 9,
     "metadata": {},
     "output_type": "execute_result"
    }
   ],
   "source": [
    "def graph_func():\n",
    "    time = timeit.default_timer()\n",
    "    last_point = up( 0.7*sin(time),  0.7*cos(time) )\n",
    "    # add that last point into the conic.\n",
    "    conic_opns = normalized(conic_minus_one_point_opns ^ last_point)\n",
    "    # The circle and line cut in a point-pair:\n",
    "    pair = normalized(line_opns&circle_opns)\n",
    "    \n",
    "    return [\n",
    "      0x00FF00,pair*2, \n",
    "      0xFF0000,circle_opns*10,\n",
    "      0x0000FF,line_opns*10,\n",
    "      0x000000,conic_opns*4,\n",
    "      0xFF0000,last_point*100,\n",
    "    ]\n",
    "\n",
    "alg.graph(\n",
    "    graph_func,\n",
    "    animate=1,\n",
    "    width='800px',\n",
    "    height='600px',\n",
    "    up=up,\n",
    ")"
   ]
  },
  {
   "cell_type": "code",
   "execution_count": null,
   "id": "75083cd8-040a-4991-b475-809333973f4e",
   "metadata": {},
   "outputs": [],
   "source": []
  }
 ],
 "metadata": {
  "kernelspec": {
   "display_name": "Python 3 (ipykernel)",
   "language": "python",
   "name": "python3"
  },
  "language_info": {
   "codemirror_mode": {
    "name": "ipython",
    "version": 3
   },
   "file_extension": ".py",
   "mimetype": "text/x-python",
   "name": "python",
   "nbconvert_exporter": "python",
   "pygments_lexer": "ipython3",
   "version": "3.10.14"
  }
 },
 "nbformat": 4,
 "nbformat_minor": 5
}
