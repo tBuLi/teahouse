{
 "cells": [
  {
   "cell_type": "markdown",
   "id": "e2b33889-0b9e-43a0-b2fb-f1619694d6e9",
   "metadata": {},
   "source": [
    "# 2DCGA: Points and Circles.\n",
    "\n",
    "Based on https://enkimute.github.io/ganja.js/examples/coffeeshop.html#cga2d_points_and_circles."
   ]
  },
  {
   "cell_type": "code",
   "execution_count": 1,
   "id": "934c43ed-e17e-4fde-a722-c0b32b3fcf32",
   "metadata": {},
   "outputs": [
    {
     "name": "stdout",
     "output_type": "stream",
     "text": [
      "Note: you may need to restart the kernel to use updated packages.\n"
     ]
    }
   ],
   "source": [
    "%pip install -q kingdon anywidget==0.9.9"
   ]
  },
  {
   "cell_type": "code",
   "execution_count": 2,
   "id": "dbfa424b-bd41-4293-94f3-6fd7db41c228",
   "metadata": {},
   "outputs": [],
   "source": [
    "from kingdon import Algebra\n",
    "\n",
    "alg = Algebra(3, 1)\n",
    "locals().update(alg.blades)"
   ]
  },
  {
   "cell_type": "code",
   "execution_count": 3,
   "id": "7fc2c8d0-8ffd-4960-bd26-e66392f0869e",
   "metadata": {},
   "outputs": [],
   "source": [
    "ni = e4 + e3\n",
    "no = 0.5 * (e4 - e3)"
   ]
  },
  {
   "cell_type": "code",
   "execution_count": 4,
   "id": "c4f2c752-f7e5-40ad-aff2-963875ec9494",
   "metadata": {},
   "outputs": [],
   "source": [
    "point  = lambda x, y: no + x*e1 + y*e2 + 0.5*(x*x+y*y)*ni\n",
    "line   = lambda a,b,c: (a*e1 + b*e2 + c*ni).dual()\n",
    "circle = lambda x,y,r: (point(x,y) - r**2/2*ni).dual()"
   ]
  },
  {
   "cell_type": "code",
   "execution_count": 5,
   "id": "2d52b638-2110-4b1f-b1e1-781e16e4ff6c",
   "metadata": {},
   "outputs": [],
   "source": [
    "dist   = lambda x,y: (2*(x.rc(y)).norm)**0.5\n",
    "angle  = lambda x,y: math.acos(x.normalized().dual().rc(y.normalized().dual()))"
   ]
  },
  {
   "cell_type": "code",
   "execution_count": 6,
   "id": "ee8a1b0d-8038-4461-8c82-3f7d300f29ef",
   "metadata": {},
   "outputs": [],
   "source": [
    "p1 = point(-0.5, -0.5)\n",
    "p2 = point( 1, -0.5)\n",
    "p3 = point(   0,  1.5)"
   ]
  },
  {
   "cell_type": "code",
   "execution_count": 7,
   "id": "6498d7d2-4e97-4d50-9266-b68a22f659aa",
   "metadata": {},
   "outputs": [],
   "source": [
    "# Define two circles, one by wedging 3 points, one directly.\n",
    "C = lambda: p1^p2^p3      # a function so it updates live.\n",
    "D = circle(1,-1,0.9)"
   ]
  },
  {
   "cell_type": "code",
   "execution_count": 8,
   "id": "46000999-75a4-4ae6-a1ea-abd436d8b145",
   "metadata": {},
   "outputs": [],
   "source": [
    "# Define two lines, one directly, one by wedging two points and infinity.\n",
    "X = line(0,1,0)\n",
    "Y = lambda: p2^p3^ni"
   ]
  },
  {
   "cell_type": "code",
   "execution_count": 9,
   "id": "aa294439-653e-469a-9488-3eb72e9f8960",
   "metadata": {},
   "outputs": [],
   "source": [
    "# Create point pairs by intersecting circle(s) and a line(s).\n",
    "pp1 = lambda: X&C\n",
    "pp2 = lambda: C&D\n",
    "pp3 = lambda: Y&D\n",
    "p4 = lambda: no|(X&Y)"
   ]
  },
  {
   "cell_type": "code",
   "execution_count": 10,
   "id": "27018fea-cdb0-4e3d-b121-58545042bcc4",
   "metadata": {},
   "outputs": [
    {
     "data": {
      "application/vnd.jupyter.widget-view+json": {
       "model_id": "8eddf0917bf4421a9fa20998e6558355",
       "version_major": 2,
       "version_minor": 1
      },
      "text/plain": [
       "GraphWidget(cayley=[['1', 'e1', 'e2', 'e3', 'e4', 'e12', 'e13', 'e14', 'e23', 'e24', 'e34', 'e123', 'e124', 'e…"
      ]
     },
     "execution_count": 10,
     "metadata": {},
     "output_type": "execute_result"
    }
   ],
   "source": [
    "alg.graph(\n",
    "    \"2D CGA - drag p1,p2,p3\",\"\",                  # title\n",
    "    0xFF8888, C, \"C\", D, \"D\",                     # circles\n",
    "    0x44AA44, X, \"X\", Y, \"Y\", p4,                 # lines\n",
    "    0x4444FF, pp1, \"pp1\", pp2, \"pp2\", pp3, \"pp3\", # point pairs\n",
    "    0x666666, p1, \"p1\", p2, \"p2\", p3, \"p3\",       # points\n",
    "    conformal=True, grid=True,                    # conformal flag!  \n",
    ")"
   ]
  },
  {
   "cell_type": "code",
   "execution_count": null,
   "id": "cf805316-086c-46a2-b901-7cccc4064008",
   "metadata": {},
   "outputs": [],
   "source": []
  }
 ],
 "metadata": {
  "kernelspec": {
   "display_name": "Python 3 (ipykernel)",
   "language": "python",
   "name": "python3"
  },
  "language_info": {
   "codemirror_mode": {
    "name": "ipython",
    "version": 3
   },
   "file_extension": ".py",
   "mimetype": "text/x-python",
   "name": "python",
   "nbconvert_exporter": "python",
   "pygments_lexer": "ipython3",
   "version": "3.10.14"
  }
 },
 "nbformat": 4,
 "nbformat_minor": 5
}
