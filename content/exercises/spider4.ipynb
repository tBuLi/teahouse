{
 "cells": [
  {
   "cell_type": "markdown",
   "id": "1e466362c31e9631",
   "metadata": {},
   "source": [
    "# Spider Workshop - Exercise 4: Inverse Kinematics\n",
    "(These exercises were prepared for ganja.js by Steven De Keninck for [GAME23](https://bivector.net/game2023.html).)\n",
    "\n",
    "We will learn : \n",
    "1. How to setup a basic simple IK chain."
   ]
  },
  {
   "cell_type": "code",
   "execution_count": 1,
   "id": "initial_id",
   "metadata": {
    "ExecuteTime": {
     "end_time": "2024-12-04T13:58:52.935056Z",
     "start_time": "2024-12-04T13:58:50.149354Z"
    },
    "editable": true,
    "slideshow": {
     "slide_type": ""
    },
    "tags": []
   },
   "outputs": [
    {
     "name": "stdout",
     "output_type": "stream",
     "text": [
      "Note: you may need to restart the kernel to use updated packages.\n"
     ]
    }
   ],
   "source": [
    "%pip install -q kingdon anywidget==0.9.9 ipywidgets==8.1.3"
   ]
  },
  {
   "cell_type": "markdown",
   "id": "130fb325749b5599",
   "metadata": {
    "editable": true,
    "slideshow": {
     "slide_type": ""
    },
    "tags": []
   },
   "source": [
    "Create a geometric algebra with 2 positive and one null basis vector:"
   ]
  },
  {
   "cell_type": "code",
   "execution_count": 2,
   "id": "bb9ed0b8487c91bf",
   "metadata": {
    "ExecuteTime": {
     "end_time": "2024-12-04T13:58:53.811977Z",
     "start_time": "2024-12-04T13:58:52.962926Z"
    },
    "editable": true,
    "slideshow": {
     "slide_type": ""
    },
    "tags": []
   },
   "outputs": [],
   "source": [
    "from kingdon import Algebra\n",
    "\n",
    "alg = Algebra(2, 0, 1)"
   ]
  },
  {
   "cell_type": "markdown",
   "id": "1e3f5535f8cde1a9",
   "metadata": {
    "editable": true,
    "slideshow": {
     "slide_type": ""
    },
    "tags": []
   },
   "source": [
    "In the previous lesson we learned how to translate along a line. Let's make this into a function:"
   ]
  },
  {
   "cell_type": "code",
   "execution_count": 3,
   "id": "c658b3b9c4ea0436",
   "metadata": {
    "ExecuteTime": {
     "end_time": "2024-12-04T13:58:54.091156Z",
     "start_time": "2024-12-04T13:58:54.077474Z"
    },
    "editable": true,
    "slideshow": {
     "slide_type": ""
    },
    "tags": []
   },
   "outputs": [],
   "source": [
    "def tr(line, dist: float):\n",
    "    \"\"\" Translate a distance along a line. \"\"\"\n",
    "    horizon = alg.blades.e0\n",
    "    origin = horizon.dual()\n",
    "    return ( (-0.5 * dist * horizon) ^ (line.normalized() | origin)).exp()"
   ]
  },
  {
   "cell_type": "markdown",
   "id": "92e46769e5ceec3e",
   "metadata": {
    "editable": true,
    "slideshow": {
     "slide_type": ""
    },
    "tags": []
   },
   "source": [
    "Our chain will have three segments, so four points, 0.5 apart. Let's also define a base and a target point."
   ]
  },
  {
   "cell_type": "code",
   "execution_count": 4,
   "id": "850ed686828490bf",
   "metadata": {
    "ExecuteTime": {
     "end_time": "2024-12-04T13:58:54.137845Z",
     "start_time": "2024-12-04T13:58:54.109372Z"
    },
    "editable": true,
    "slideshow": {
     "slide_type": ""
    },
    "tags": []
   },
   "outputs": [],
   "source": [
    "chain = [\n",
    "    alg.vector(e0=1, e1=0, e2=0).dual(),\n",
    "    alg.vector(e0=1, e1=0.5, e2=0).dual(),\n",
    "    alg.vector(e0=1, e1=1, e2=0).dual(),\n",
    "    alg.vector(e0=1, e1=1.5, e2=0).dual(),\n",
    "]\n",
    "base = alg.vector(e0=1, e1=0, e2=0).dual()\n",
    "target = alg.vector(e0=1, e1=2, e2=0).dual()"
   ]
  },
  {
   "cell_type": "markdown",
   "id": "42c16e422c8231d9",
   "metadata": {},
   "source": [
    "Our job will be to complete the IK function below."
   ]
  },
  {
   "cell_type": "code",
   "execution_count": 5,
   "id": "4267d62dac9b4cb9",
   "metadata": {
    "ExecuteTime": {
     "end_time": "2024-12-04T13:58:54.169930Z",
     "start_time": "2024-12-04T13:58:54.157124Z"
    }
   },
   "outputs": [],
   "source": [
    "def inverse_kinematics(chain, base, target) -> None:\n",
    "    \"\"\"Our IK function takes a chain, a base and a target, and updates the chain *in place* to a new chain.\"\"\"\n",
    "    # Step 1, set the last point in the chain to the target.\n",
    "    # Step 2, restore all lengths by moving along the line to the next point.\n",
    "    # Step 3, restore to the base  \n",
    "    # Step 4, restore all lengths again by moving along the same line, other direction.\n",
    "    pass"
   ]
  },
  {
   "cell_type": "markdown",
   "id": "b2dabddfa7c29758",
   "metadata": {
    "editable": true,
    "slideshow": {
     "slide_type": ""
    },
    "tags": []
   },
   "source": [
    "Render these elements using the `Algebra.graph` function. If you provide a function without arguments to `Algebra.graph`, the function will be re-evaluated everytime you drag a point.\n",
    "So pro-tip for the coming exercises: define everything within `graph_func`. "
   ]
  },
  {
   "cell_type": "code",
   "execution_count": 6,
   "id": "13200375746194b",
   "metadata": {
    "ExecuteTime": {
     "end_time": "2024-12-04T13:58:54.232525Z",
     "start_time": "2024-12-04T13:58:54.209567Z"
    },
    "editable": true,
    "slideshow": {
     "slide_type": ""
    },
    "tags": []
   },
   "outputs": [
    {
     "data": {
      "application/vnd.jupyter.widget-view+json": {
       "model_id": "365ee7b518e544c79021de9bc6c1a65b",
       "version_major": 2,
       "version_minor": 1
      },
      "text/plain": [
       "GraphWidget(cayley=[['1', 'e0', 'e1', 'e2', 'e01', 'e02', 'e12', 'e012'], ['e0', '0', 'e01', 'e02', '0', '0', …"
      ]
     },
     "execution_count": 6,
     "metadata": {},
     "output_type": "execute_result"
    }
   ],
   "source": [
    "def graph_func():\n",
    "    inverse_kinematics(chain, base, target)\n",
    "\n",
    "    return [\n",
    "        \"Spider Workshop - Inverse Kinematics\",\n",
    "        *chain,  # Use the spread operator * to graph all the points in chain \n",
    "        [chain[0], chain[1]],\n",
    "        [chain[1], chain[2]],\n",
    "        [chain[2], chain[3]],\n",
    "        0xFF0000, base, \"B\", target, \"T\"\n",
    "    ]\n",
    "\n",
    "alg.graph(\n",
    "    graph_func,\n",
    "    grid=True, labels=True, lineWidth=4,\n",
    ")"
   ]
  },
  {
   "cell_type": "markdown",
   "id": "f27c6bef65ab1b88",
   "metadata": {
    "editable": true,
    "slideshow": {
     "slide_type": ""
    },
    "tags": []
   },
   "source": [
    "## Exercises:\n",
    "\n",
    "Complete the IK function. This function is called each frame with\n",
    "   a base and target point (input), as well as a chain of points that\n",
    "   you need to update te solve the inverse kinematics problem. Each frame\n",
    "   we will improve our solution in four steps:\n",
    "1. Step 1. Assume all is well and use `C[3] = Target` to set the last point in your chain to the target.\n",
    "\n",
    "2. Step 2. This makes the last segment to long, which we will correct by moving\n",
    "           the point `C[3]` along the line between `C[2]` and the new `C[3]` until\n",
    "           the length is correct, and using that for `C[2]`. This will again\n",
    "           violate the lenght between `C[1]` and `C[2]`, so do this in a for-loop\n",
    "           that runs from 2 down to 1 and restores all lengths.\n",
    "           For each step you'll need to create the correct line... e.g. `C[2]&C[3]`\n",
    "           then convert that line to a translator with the function `tr`, and apply\n",
    "           it with the correct distance (0.5) to `C[3]` to find the new `C[2]`. \n",
    "\n",
    "- Hint 1: `for i in reversed(range(3)): C[i] = ... >> C[i+1]`\n",
    "- Hint 2: `tr(C[i] & C[i+1], 0.5)`\n",
    "\n",
    "3. Step 3. Set `C[0]` to the base point with `C[0] = Base`.\n",
    "\n",
    "4. Step 4. Repeat the idea from step 2, this time going from 1 up to 3, restoring\n",
    "           again all lenghts along their connecting lines. \n",
    "\n",
    "\n",
    "BONUS + EXTRA CREDIT\n",
    "\n",
    "1. Change the dimensions from 2 to 3 and study what happens.\n",
    "2. Make this a 4-segment/5-point chain."
   ]
  },
  {
   "cell_type": "code",
   "execution_count": 7,
   "id": "236f397a-017e-40ec-b6c1-032adbbb78c6",
   "metadata": {
    "jupyter": {
     "source_hidden": true
    }
   },
   "outputs": [
    {
     "data": {
      "application/vnd.jupyter.widget-view+json": {
       "model_id": "0653acab57ba45eaa04c2c2fd2ea0440",
       "version_major": 2,
       "version_minor": 1
      },
      "text/plain": [
       "SolutionWidget()"
      ]
     },
     "execution_count": 7,
     "metadata": {},
     "output_type": "execute_result"
    }
   ],
   "source": [
    "from exercises.solution_widget import SolutionWidget\n",
    "\n",
    "SolutionWidget(exercise='spider4')"
   ]
  }
 ],
 "metadata": {
  "kernelspec": {
   "display_name": "Python 3 (ipykernel)",
   "language": "python",
   "name": "python3"
  },
  "language_info": {
   "codemirror_mode": {
    "name": "ipython",
    "version": 3
   },
   "file_extension": ".py",
   "mimetype": "text/x-python",
   "name": "python",
   "nbconvert_exporter": "python",
   "pygments_lexer": "ipython3",
   "version": "3.10.15"
  }
 },
 "nbformat": 4,
 "nbformat_minor": 5
}
