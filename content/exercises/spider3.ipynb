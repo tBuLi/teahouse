{
 "cells": [
  {
   "cell_type": "markdown",
   "id": "1e466362c31e9631",
   "metadata": {},
   "source": [
    "# Spider Workshop - Exercise 3: Exponentiating For Smooth transformations\n",
    "(These exercises were prepared for ganja.js by Steven De Keninck for [GAME23](https://bivector.net/game2023.html).)\n",
    "\n",
    "We will learn: \n",
    "1. How to exponentiate Euclidean elements to make smooth rotations\n",
    "2. How to exponentiate Infinite elements to make smooth translations\n",
    "3. How to find the infinite element that will let you move along a line"
   ]
  },
  {
   "cell_type": "code",
   "execution_count": 1,
   "id": "initial_id",
   "metadata": {
    "ExecuteTime": {
     "end_time": "2024-12-04T09:31:06.271597Z",
     "start_time": "2024-12-04T09:31:04.437930Z"
    },
    "editable": true,
    "slideshow": {
     "slide_type": ""
    },
    "tags": []
   },
   "outputs": [
    {
     "name": "stdout",
     "output_type": "stream",
     "text": [
      "Note: you may need to restart the kernel to use updated packages.\n"
     ]
    }
   ],
   "source": [
    "%pip install -q kingdon anywidget==0.9.9 ipywidgets==8.1.3"
   ]
  },
  {
   "cell_type": "markdown",
   "id": "130fb325749b5599",
   "metadata": {
    "editable": true,
    "slideshow": {
     "slide_type": ""
    },
    "tags": []
   },
   "source": [
    "Create a geometric algebra with 2 positive and one null basis vector:"
   ]
  },
  {
   "cell_type": "code",
   "execution_count": 2,
   "id": "bb9ed0b8487c91bf",
   "metadata": {
    "ExecuteTime": {
     "end_time": "2024-12-04T09:31:07.408038Z",
     "start_time": "2024-12-04T09:31:06.336304Z"
    },
    "editable": true,
    "slideshow": {
     "slide_type": ""
    },
    "tags": []
   },
   "outputs": [],
   "source": [
    "from kingdon import Algebra\n",
    "\n",
    "alg = Algebra(2, 0, 1)"
   ]
  },
  {
   "cell_type": "markdown",
   "id": "1e3f5535f8cde1a9",
   "metadata": {
    "editable": true,
    "slideshow": {
     "slide_type": ""
    },
    "tags": []
   },
   "source": [
    "Create a line by joining two points. (so it stays a line in 3D)"
   ]
  },
  {
   "cell_type": "code",
   "execution_count": 3,
   "id": "c658b3b9c4ea0436",
   "metadata": {
    "ExecuteTime": {
     "end_time": "2024-12-04T09:31:07.689189Z",
     "start_time": "2024-12-04T09:31:07.614159Z"
    },
    "editable": true,
    "slideshow": {
     "slide_type": ""
    },
    "tags": []
   },
   "outputs": [],
   "source": [
    "P1 = alg.vector(e0=1, e1=1, e2=-1).dual()\n",
    "P2 = alg.vector(e0=1, e1=0, e2=0).dual()  # origin\n",
    "L1 = (P1 & P2).normalized()"
   ]
  },
  {
   "cell_type": "markdown",
   "id": "92e46769e5ceec3e",
   "metadata": {
    "editable": true,
    "slideshow": {
     "slide_type": ""
    },
    "tags": []
   },
   "source": [
    "Create a point at (1,-0.5) directly as bivector, which will serve as a rotation axis. We define it directly as a bivector so it becomes a line in 3D."
   ]
  },
  {
   "cell_type": "code",
   "execution_count": 4,
   "id": "850ed686828490bf",
   "metadata": {
    "ExecuteTime": {
     "end_time": "2024-12-04T09:31:07.720565Z",
     "start_time": "2024-12-04T09:31:07.706803Z"
    },
    "editable": true,
    "slideshow": {
     "slide_type": ""
    },
    "tags": []
   },
   "outputs": [],
   "source": [
    "P1 = alg.bivector(e01=-0.5, e02=-1, e12=1)"
   ]
  },
  {
   "cell_type": "markdown",
   "id": "42c16e422c8231d9",
   "metadata": {},
   "source": [
    "Arrays of two points are interpreted by the graph function as line segments, arrays of more points are rendered as polygons. So lets render a triangle:"
   ]
  },
  {
   "cell_type": "code",
   "execution_count": 5,
   "id": "4267d62dac9b4cb9",
   "metadata": {
    "ExecuteTime": {
     "end_time": "2024-12-04T09:31:07.751867Z",
     "start_time": "2024-12-04T09:31:07.737929Z"
    }
   },
   "outputs": [],
   "source": [
    "triangle1 = [\n",
    "    alg.vector(e0=1, e1=1, e2=0).dual(), \n",
    "    alg.vector(e0=1, e1=0.6, e2=0.5).dual(), \n",
    "    alg.vector(e0=1, e1=1.3, e2=0.8).dual()\n",
    "]"
   ]
  },
  {
   "cell_type": "markdown",
   "id": "b2dabddfa7c29758",
   "metadata": {
    "editable": true,
    "slideshow": {
     "slide_type": ""
    },
    "tags": []
   },
   "source": [
    "Render these elements using the `Algebra.graph` function. If you provide a function without arguments to `Algebra.graph`, the function will be re-evaluated everytime you drag a point.\n",
    "So pro-tip for the coming exercises: define everything within `graph_func`. "
   ]
  },
  {
   "cell_type": "code",
   "execution_count": 6,
   "id": "13200375746194b",
   "metadata": {
    "ExecuteTime": {
     "end_time": "2024-12-04T09:31:07.970316Z",
     "start_time": "2024-12-04T09:31:07.945916Z"
    },
    "editable": true,
    "slideshow": {
     "slide_type": ""
    },
    "tags": []
   },
   "outputs": [
    {
     "data": {
      "application/vnd.jupyter.widget-view+json": {
       "model_id": "8510229f1ee941ba8b9c78e3161954c1",
       "version_major": 2,
       "version_minor": 1
      },
      "text/plain": [
       "GraphWidget(cayley=[['1', 'e0', 'e1', 'e2', 'e01', 'e02', 'e12', 'e012'], ['e0', '0', 'e01', 'e02', '0', '0', …"
      ]
     },
     "execution_count": 6,
     "metadata": {},
     "output_type": "execute_result"
    }
   ],
   "source": [
    "import math\n",
    "import timeit\n",
    "\n",
    "\n",
    "def graph_func():\n",
    "    t = timeit.default_timer() % (2 * math.pi)  # Grab the current time modulo 2 pi.\n",
    "    \n",
    "    # Below you can write the answers to the exercises so they are animated.\n",
    "    \n",
    "    return [\n",
    "        \"Spider Workshop - Exponentials - around and along\",\n",
    "        0x009977, L1, \"L1\",\n",
    "        0x009977, P1, \"P1\", \n",
    "        0x990077, triangle1, \"t1\",\n",
    "    ]\n",
    "\n",
    "alg.graph(\n",
    "    graph_func,\n",
    "    grid=True, labels=True, animate=True\n",
    ")"
   ]
  },
  {
   "cell_type": "markdown",
   "id": "f27c6bef65ab1b88",
   "metadata": {
    "editable": true,
    "slideshow": {
     "slide_type": ""
    },
    "tags": []
   },
   "source": [
    "## Exercises:\n",
    "\n",
    "1. Create the rotor `R` that spins around `P1` with the formula $e^{- t P_1 / 2}$, which in kingdon code is `(-0.5 * time * P1).exp()`.\n",
    "2. Create and render `triangle2` by Applying (`>>`) $R$ to triangle.\n",
    "   -> Drag point `P1` around!\n",
    "3. Create a line `L2` by dotting `L1` with any point (use `P1` or the origin)\n",
    "4. Create a point at infinity called `P2` by intersecting `e0` (the infinite line) with `L2.normalized()`.\n",
    "   -> Note that we would find the same infinite point no matter which point we pick in step 3.\n",
    "5. Create a translator `T` along `L1` with the formula $e^{- t P_2 / 2}$, which in kingdon code is `(-0.5 * time * P2).exp()`\n",
    "   -> translating is just like rotating, but 'around' infinite points.\n",
    "6. Create and render `triangle3` by applying `T` to triangle.\n",
    "\n",
    "## Self-reflection: we have learned \n",
    "\n",
    "1. How we can exponentiate scaled versions of Euclidean points to generate rotations\n",
    "2. How to find an infinite element orthogonal to a given line.\n",
    "3. How we can exponentiate a scaled version of an infinite point to generate a translation\n",
    "\n",
    "## Bonus\n",
    "1. Change the dimensions to 3 and see what happens."
   ]
  },
  {
   "cell_type": "code",
   "execution_count": 7,
   "id": "487f3156-2d6f-4d06-97d4-180975a107c7",
   "metadata": {
    "ExecuteTime": {
     "end_time": "2024-12-04T09:31:20.514668Z",
     "start_time": "2024-12-04T09:31:20.480441Z"
    },
    "editable": true,
    "jupyter": {
     "source_hidden": true
    },
    "slideshow": {
     "slide_type": ""
    },
    "tags": [
     "hide-cell"
    ]
   },
   "outputs": [
    {
     "data": {
      "application/vnd.jupyter.widget-view+json": {
       "model_id": "009e32f2cbe64885a0ce7574269b4777",
       "version_major": 2,
       "version_minor": 1
      },
      "text/plain": [
       "SolutionWidget()"
      ]
     },
     "execution_count": 7,
     "metadata": {},
     "output_type": "execute_result"
    }
   ],
   "source": [
    "from exercises.solution_widget import SolutionWidget\n",
    "\n",
    "SolutionWidget(exercise='spider3')"
   ]
  }
 ],
 "metadata": {
  "kernelspec": {
   "display_name": "Python 3 (ipykernel)",
   "language": "python",
   "name": "python3"
  },
  "language_info": {
   "codemirror_mode": {
    "name": "ipython",
    "version": 3
   },
   "file_extension": ".py",
   "mimetype": "text/x-python",
   "name": "python",
   "nbconvert_exporter": "python",
   "pygments_lexer": "ipython3",
   "version": "3.12.8"
  }
 },
 "nbformat": 4,
 "nbformat_minor": 5
}
