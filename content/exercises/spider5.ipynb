{
 "cells": [
  {
   "cell_type": "markdown",
   "id": "1e466362c31e9631",
   "metadata": {},
   "source": [
    "# Spider Workshop - Exercise 5: Constrained Inverse Kinematics\n",
    "(These exercises were prepared for ganja.js by Steven De Keninck for [GAME23](https://bivector.net/game2023.html).)\n",
    "\n",
    "We will learn : \n",
    "1. How to constrain our leg to a plane, so it looks more spider-like in 3D\n",
    "2. How to implement a distance constraint\n",
    "3. How to implement an angle constraint"
   ]
  },
  {
   "cell_type": "code",
   "execution_count": 1,
   "id": "initial_id",
   "metadata": {
    "ExecuteTime": {
     "end_time": "2024-12-05T14:01:33.741761Z",
     "start_time": "2024-12-05T14:01:30.765612Z"
    },
    "editable": true,
    "slideshow": {
     "slide_type": ""
    },
    "tags": []
   },
   "outputs": [
    {
     "name": "stdout",
     "output_type": "stream",
     "text": [
      "Note: you may need to restart the kernel to use updated packages.\n"
     ]
    }
   ],
   "source": [
    "%pip install -q kingdon anywidget==0.9.9 ipywidgets==8.1.3"
   ]
  },
  {
   "cell_type": "markdown",
   "id": "130fb325749b5599",
   "metadata": {
    "editable": true,
    "slideshow": {
     "slide_type": ""
    },
    "tags": []
   },
   "source": [
    "Create a geometric algebra with 3 positive and one null basis vector:"
   ]
  },
  {
   "cell_type": "code",
   "execution_count": 2,
   "id": "bb9ed0b8487c91bf",
   "metadata": {
    "ExecuteTime": {
     "end_time": "2024-12-05T14:01:35.443970Z",
     "start_time": "2024-12-05T14:01:33.857464Z"
    },
    "editable": true,
    "slideshow": {
     "slide_type": ""
    },
    "tags": []
   },
   "outputs": [],
   "source": [
    "from kingdon import Algebra\n",
    "\n",
    "alg = Algebra(3, 0, 1)"
   ]
  },
  {
   "cell_type": "markdown",
   "id": "1e3f5535f8cde1a9",
   "metadata": {
    "editable": true,
    "slideshow": {
     "slide_type": ""
    },
    "tags": []
   },
   "source": [
    "In lesson 4 we learned how to translate along a line. Let's make this into a function:"
   ]
  },
  {
   "cell_type": "code",
   "execution_count": 3,
   "id": "c658b3b9c4ea0436",
   "metadata": {
    "ExecuteTime": {
     "end_time": "2024-12-05T14:01:36.407047Z",
     "start_time": "2024-12-05T14:01:36.394267Z"
    },
    "editable": true,
    "slideshow": {
     "slide_type": ""
    },
    "tags": []
   },
   "outputs": [],
   "source": [
    "def tr(line, dist: float):\n",
    "    \"\"\" Translate a distance along a line. \"\"\"\n",
    "    horizon = alg.blades.e0\n",
    "    origin = horizon.dual()\n",
    "    return ( (-0.5 * dist * horizon) ^ (line.normalized() | origin)).exp()"
   ]
  },
  {
   "cell_type": "markdown",
   "id": "92e46769e5ceec3e",
   "metadata": {
    "editable": true,
    "slideshow": {
     "slide_type": ""
    },
    "tags": []
   },
   "source": [
    "Our chain will have three segments, so four points, 0.5 apart. Let's also define a base and a target point."
   ]
  },
  {
   "cell_type": "code",
   "execution_count": 4,
   "id": "850ed686828490bf",
   "metadata": {
    "ExecuteTime": {
     "end_time": "2024-12-05T14:01:36.469895Z",
     "start_time": "2024-12-05T14:01:36.444698Z"
    },
    "editable": true,
    "slideshow": {
     "slide_type": ""
    },
    "tags": []
   },
   "outputs": [],
   "source": [
    "chain = [\n",
    "    alg.vector(e0=1, e1=0, e2=0, e3=0).dual(),\n",
    "    alg.vector(e0=1, e1=0.5, e2=0, e3=0).dual(),\n",
    "    alg.vector(e0=1, e1=1, e2=0, e3=0).dual(),\n",
    "    alg.vector(e0=1, e1=1.5, e2=0, e3=0).dual(),\n",
    "]\n",
    "base = alg.vector(e0=1, e1=-0.5, e2=0, e3=0).dual()\n",
    "target = alg.vector(e0=1, e1=1, e2=-1, e3=0).dual()"
   ]
  },
  {
   "cell_type": "markdown",
   "id": "42c16e422c8231d9",
   "metadata": {},
   "source": [
    "Our job will be to complete the IK function below."
   ]
  },
  {
   "cell_type": "code",
   "execution_count": 5,
   "id": "4267d62dac9b4cb9",
   "metadata": {
    "ExecuteTime": {
     "end_time": "2024-12-05T14:01:36.547152Z",
     "start_time": "2024-12-05T14:01:36.533969Z"
    }
   },
   "outputs": [],
   "source": [
    "def inverse_kinematics(C, Base, Target) -> None:\n",
    "    \"\"\"Our IK function takes a chain, a base and a target, and updates the chain *in place* to a new chain.\"\"\"\n",
    "    C[3] = Target\n",
    "    for i in reversed(range(3)): \n",
    "        C[i] = tr(C[i] & C[i+1], 0.5) >> C[i+1]\n",
    "    \n",
    "    # Here we put our constraints\n",
    "    \n",
    "    C[0] = Base\n",
    "    for i in range(1, 3 + 1):\n",
    "        C[i] = tr(C[i-1] & C[i], -0.5) >> C[i-1]"
   ]
  },
  {
   "cell_type": "markdown",
   "id": "b2dabddfa7c29758",
   "metadata": {
    "editable": true,
    "slideshow": {
     "slide_type": ""
    },
    "tags": []
   },
   "source": [
    "Render these elements using the `Algebra.graph` function. If you provide a function without arguments to `Algebra.graph`, the function will be re-evaluated everytime you drag a point.\n",
    "So pro-tip for the coming exercises: define everything within `graph_func`. "
   ]
  },
  {
   "cell_type": "code",
   "execution_count": 6,
   "id": "13200375746194b",
   "metadata": {
    "ExecuteTime": {
     "end_time": "2024-12-05T14:01:36.672575Z",
     "start_time": "2024-12-05T14:01:36.559211Z"
    },
    "editable": true,
    "slideshow": {
     "slide_type": ""
    },
    "tags": []
   },
   "outputs": [
    {
     "data": {
      "application/vnd.jupyter.widget-view+json": {
       "model_id": "4cbbe86e49444b9a8ad5582538db3833",
       "version_major": 2,
       "version_minor": 1
      },
      "text/plain": [
       "GraphWidget(cayley=[['1', 'e0', 'e1', 'e2', 'e3', 'e01', 'e02', 'e03', 'e12', 'e13', 'e23', 'e012', 'e013', 'e…"
      ]
     },
     "execution_count": 6,
     "metadata": {},
     "output_type": "execute_result"
    }
   ],
   "source": [
    "def graph_func():\n",
    "    inverse_kinematics(chain, base, target)\n",
    "    \n",
    "    return [\n",
    "        \"Spider Workshop - Constrained Inverse Kinematics\", \n",
    "        [chain[0], chain[1]],\n",
    "        [chain[1], chain[2]],\n",
    "        [chain[2], chain[3]],\n",
    "        0xFF0000, base, \"B\", target, \"T\",\n",
    "    ]\n",
    "\n",
    "alg.graph(\n",
    "    graph_func,\n",
    "    grid=True, labels=True, lineWidth=4,\n",
    ")"
   ]
  },
  {
   "cell_type": "markdown",
   "id": "f27c6bef65ab1b88",
   "metadata": {
    "editable": true,
    "slideshow": {
     "slide_type": ""
    },
    "tags": []
   },
   "source": [
    "## Exercises:\n",
    "\n",
    "First test the existing solution in 3D, especially after turning the camera. Note how the points\n",
    "of the leg do not stay in the same plane, giving a non-spider look. Let's fix that by constraining\n",
    "these points to lie in a vertical plane.\n",
    "\n",
    "1. Below line 7 of the `inverse_kinematics` function, construct `plane` containing Base and Target by using two joins (&) containing the Base, Target and the point at infinity in the \"up\" direction (e2.dual()).\n",
    "\n",
    "2. Project all points in a for loop to this plane using the projection formula `(x|plane)/plane`.\n",
    "   Examine how this changes the behavior as you drag the base and target.\n",
    "   What would we break if we did this projection as the last step?\n",
    "\n",
    "3. We also want to make sure the first joint point never goes below the base point. To do this\n",
    "   create a `plane2`, through the base point, orthogonal to the up-line (e13).\n",
    "\n",
    "4. Measure the signed distance from the first joint (`C[1]`) to this plane, by joining `C[1]` and\n",
    "   `plane2` to make a volume. If this volume is negative, the first joint is under the base\n",
    "   point and you want to project this joint point `C[1]` back onto `plane2`.\n",
    "    (hint: to compare the signed distance you should extract its scalar component using '.e': \n",
    "      distance = (point & plane).e )\n",
    "\n",
    "\n",
    "## Extra Credit\n",
    "\n",
    "5. Make sure the last joint can only bend one way by measuring the angle between the two last\n",
    "   segments. If it is negative, mirror `C[2]` to the other side of the line between `C[1]` and `C[3]`.\n",
    "   Hint : the angle you want is `(((C[1]&C[2]|C[2]) ^ plane) | (C[2]&C[3])).e`.\n",
    "   This construction creates a line orthogonal to the middle segment `((C[1]&C[2]|C[2]) ^ plane)` and \n",
    "   dots that with the line of the last segment, returning the cosine of the angle. \n"
   ]
  },
  {
   "cell_type": "code",
   "execution_count": 7,
   "id": "a06ff8aa-e192-4181-85dd-7f4e4fe0567a",
   "metadata": {
    "ExecuteTime": {
     "end_time": "2024-12-05T14:01:36.720014Z",
     "start_time": "2024-12-05T14:01:36.697140Z"
    },
    "jupyter": {
     "source_hidden": true
    }
   },
   "outputs": [
    {
     "data": {
      "application/vnd.jupyter.widget-view+json": {
       "model_id": "2b271ad4019f4703932c9a73f8f384a0",
       "version_major": 2,
       "version_minor": 1
      },
      "text/plain": [
       "SolutionWidget()"
      ]
     },
     "execution_count": 7,
     "metadata": {},
     "output_type": "execute_result"
    }
   ],
   "source": [
    "from exercises.solution_widget import SolutionWidget\n",
    "\n",
    "SolutionWidget(exercise='spider5')"
   ]
  }
 ],
 "metadata": {
  "kernelspec": {
   "display_name": "Python 3 (ipykernel)",
   "language": "python",
   "name": "python3"
  },
  "language_info": {
   "codemirror_mode": {
    "name": "ipython",
    "version": 3
   },
   "file_extension": ".py",
   "mimetype": "text/x-python",
   "name": "python",
   "nbconvert_exporter": "python",
   "pygments_lexer": "ipython3",
   "version": "3.10.15"
  }
 },
 "nbformat": 4,
 "nbformat_minor": 5
}
