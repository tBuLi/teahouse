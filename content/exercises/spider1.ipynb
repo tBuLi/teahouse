{
 "cells": [
  {
   "cell_type": "markdown",
   "id": "1e466362c31e9631",
   "metadata": {},
   "source": [
    "# Spider Workshop - Exercise 1: Boiler Plate\n",
    "(These exercises were prepared for ganja.js by Steven De Keninck for [GAME23](https://bivector.net/game2023.html).)\n",
    "\n",
    "First, the boilerplate. No worries - it is minimal.\n",
    " \n",
    "We will first: \n",
    "1. create a geometric algebra with 2 positive and one null basis vector.\n",
    "2. create a line using these basis vectors.\n",
    "3. create a point using the dual construction.\n",
    "4. render these elements using the graph function.\n",
    "\n",
    "After we have done this setup, we will do some exercises at the end of this notebook."
   ]
  },
  {
   "cell_type": "code",
   "execution_count": 1,
   "id": "initial_id",
   "metadata": {
    "ExecuteTime": {
     "end_time": "2024-12-03T09:29:59.479491Z",
     "start_time": "2024-12-03T09:29:55.799826Z"
    },
    "editable": true,
    "slideshow": {
     "slide_type": ""
    },
    "tags": []
   },
   "outputs": [
    {
     "name": "stdout",
     "output_type": "stream",
     "text": [
      "Note: you may need to restart the kernel to use updated packages.\n"
     ]
    }
   ],
   "source": [
    "%pip install -q kingdon anywidget==0.9.9 ipywidgets==8.1.3"
   ]
  },
  {
   "cell_type": "markdown",
   "id": "130fb325749b5599",
   "metadata": {
    "editable": true,
    "slideshow": {
     "slide_type": ""
    },
    "tags": []
   },
   "source": [
    "Create a geometric algebra with 2 positive and one null basis vector:"
   ]
  },
  {
   "cell_type": "code",
   "execution_count": 2,
   "id": "bb9ed0b8487c91bf",
   "metadata": {
    "ExecuteTime": {
     "end_time": "2024-12-03T09:30:01.578961Z",
     "start_time": "2024-12-03T09:29:59.608451Z"
    },
    "editable": true,
    "slideshow": {
     "slide_type": ""
    },
    "tags": []
   },
   "outputs": [],
   "source": [
    "from kingdon import Algebra\n",
    "\n",
    "alg = Algebra(2, 0, 1)"
   ]
  },
  {
   "cell_type": "markdown",
   "id": "1e3f5535f8cde1a9",
   "metadata": {
    "editable": true,
    "slideshow": {
     "slide_type": ""
    },
    "tags": []
   },
   "source": [
    "Create a line using these basis vectors."
   ]
  },
  {
   "cell_type": "code",
   "execution_count": 3,
   "id": "c658b3b9c4ea0436",
   "metadata": {
    "ExecuteTime": {
     "end_time": "2024-12-03T09:30:01.642102Z",
     "start_time": "2024-12-03T09:30:01.632278Z"
    },
    "editable": true,
    "slideshow": {
     "slide_type": ""
    },
    "tags": []
   },
   "outputs": [],
   "source": [
    "line1 = alg.vector(e1=-1, e2=1)  # the line \"y - x = 0\""
   ]
  },
  {
   "cell_type": "markdown",
   "id": "92e46769e5ceec3e",
   "metadata": {
    "editable": true,
    "slideshow": {
     "slide_type": ""
    },
    "tags": []
   },
   "source": [
    "Create a point using the dual construction. (Meaning we define a point as the dual of a vector.)"
   ]
  },
  {
   "cell_type": "code",
   "execution_count": 4,
   "id": "850ed686828490bf",
   "metadata": {
    "ExecuteTime": {
     "end_time": "2024-12-03T09:30:01.702297Z",
     "start_time": "2024-12-03T09:30:01.674644Z"
    },
    "editable": true,
    "slideshow": {
     "slide_type": ""
    },
    "tags": []
   },
   "outputs": [],
   "source": [
    "point1 = alg.vector(e0=1, e1=1.5, e2=0).dual()  # the point at x=1.5"
   ]
  },
  {
   "cell_type": "markdown",
   "id": "b2dabddfa7c29758",
   "metadata": {
    "editable": true,
    "slideshow": {
     "slide_type": ""
    },
    "tags": []
   },
   "source": [
    "Render these elements using the `Algebra.graph` function. If you provide a function without arguments to `Algebra.graph`, the function will be re-evaluated everytime you drag a point.\n",
    "So pro-tip for the coming exercises: define everything within `graph_func`. "
   ]
  },
  {
   "cell_type": "code",
   "execution_count": 5,
   "id": "13200375746194b",
   "metadata": {
    "ExecuteTime": {
     "end_time": "2024-12-03T09:30:02.838586Z",
     "start_time": "2024-12-03T09:30:02.808075Z"
    },
    "editable": true,
    "slideshow": {
     "slide_type": ""
    },
    "tags": []
   },
   "outputs": [
    {
     "data": {
      "application/vnd.jupyter.widget-view+json": {
       "model_id": "75cb73d089d14173bf63eb67aa902b6f",
       "version_major": 2,
       "version_minor": 1
      },
      "text/plain": [
       "GraphWidget(cayley=[['1', 'e0', 'e1', 'e2', 'e01', 'e02', 'e12', 'e012'], ['e0', '0', 'e01', 'e02', '0', '0', …"
      ]
     },
     "execution_count": 5,
     "metadata": {},
     "output_type": "execute_result"
    }
   ],
   "source": [
    "def graph_func():\n",
    "    return [\n",
    "        \"Spider Workshop - Boiler Plate\",\n",
    "        0xff0000, line1, \"line\",\n",
    "        0x540099, point1, \"point\",\n",
    "    ]\n",
    "\n",
    "alg.graph(\n",
    "    graph_func,\n",
    "    grid=True, labels=True,\n",
    ")"
   ]
  },
  {
   "cell_type": "markdown",
   "id": "f27c6bef65ab1b88",
   "metadata": {
    "editable": true,
    "slideshow": {
     "slide_type": ""
    },
    "tags": []
   },
   "source": [
    "## Exercises\n",
    "\n",
    "1. add a second point called `point2`, and render it in a different color. (Integers are interpreted as hexadecimal colors.)\n",
    "2. create a second line called `line2`, by joining (`&` = join) point1 to point2.\n",
    "3. create a third point called `point3` by intersecting (`^` = meet) `line1` and `line2`.\n",
    "4. calculate `line2` and `point3` inside `graph_func`, so they update when you drag `point1` and `point2`.\n",
    "5. change `line1` so that it is no longer through the origin\n",
    "   (Hint, lines through the origin have `e0 = 0`)\n",
    "6. calculate a point called `point4` by reflecting `point1` in `line1`. (`>>` = group conjugation aka sandwich)\n",
    "7. calculate a line called `line3` that is orthogonal to `line1` and through `point4` (`|` = dot)\n",
    "8. calculate a line called `line4` that is halfway between `line2` and `line3`.\n",
    "   (Hint the normalized version of `x` is written `x.normalized()`)\n",
    "\n",
    "Self-Reflection - we've learned :\n",
    "1. how to create points and lines directly. (dual operator for points)\n",
    "2. how to create points by meeting `^` lines and lines by joining `&` points.\n",
    "3. how to find orthogonal elements with the dot `|` product.\n",
    "4. how to apply `>>` a reflection in a line\n",
    "5. how to use addition `+` to find the bisector of two (`.normalized()`) lines. \n",
    "\n",
    "BONUS\n",
    "1. Change the algebra from 2D to 3D PGA on line 10. Study what happens !"
   ]
  },
  {
   "cell_type": "code",
   "execution_count": 6,
   "id": "58b22acc-b76d-4811-91cd-f244d4c0ff21",
   "metadata": {
    "jupyter": {
     "source_hidden": true
    }
   },
   "outputs": [
    {
     "data": {
      "application/vnd.jupyter.widget-view+json": {
       "model_id": "52f71cc25fd64825ba3d4361a56daacc",
       "version_major": 2,
       "version_minor": 1
      },
      "text/plain": [
       "SolutionWidget()"
      ]
     },
     "execution_count": 6,
     "metadata": {},
     "output_type": "execute_result"
    }
   ],
   "source": [
    "from exercises.solution_widget import SolutionWidget\n",
    "\n",
    "SolutionWidget(exercise='spider1')"
   ]
  }
 ],
 "metadata": {
  "kernelspec": {
   "display_name": "Python 3 (ipykernel)",
   "language": "python",
   "name": "python3"
  },
  "language_info": {
   "codemirror_mode": {
    "name": "ipython",
    "version": 3
   },
   "file_extension": ".py",
   "mimetype": "text/x-python",
   "name": "python",
   "nbconvert_exporter": "python",
   "pygments_lexer": "ipython3",
   "version": "3.12.8"
  }
 },
 "nbformat": 4,
 "nbformat_minor": 5
}
