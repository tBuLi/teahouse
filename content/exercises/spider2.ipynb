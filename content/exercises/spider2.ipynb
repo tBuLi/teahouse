{
 "cells": [
  {
   "cell_type": "markdown",
   "id": "1e466362c31e9631",
   "metadata": {},
   "source": [
    "# Spider Workshop - Exercise 2: Elements ARE Transformations ARE Elements\n",
    "(These exercises were prepared for ganja.js by Steven De Keninck for [GAME23](https://bivector.net/game2023.html).)\n",
    "\n",
    "We will learn : \n",
    "1. how to render line segments and polygons. \n",
    "2. how all Elements are also reflections.\n",
    "3. How we can combine reflections into rotations and more\n",
    "4. Why we need a square root and an easy way to calculate it."
   ]
  },
  {
   "cell_type": "code",
   "execution_count": 1,
   "id": "initial_id",
   "metadata": {
    "editable": true,
    "jupyter": {
     "is_executing": true
    },
    "slideshow": {
     "slide_type": ""
    },
    "tags": []
   },
   "outputs": [
    {
     "name": "stdout",
     "output_type": "stream",
     "text": [
      "Note: you may need to restart the kernel to use updated packages.\n"
     ]
    }
   ],
   "source": [
    "%pip install -q kingdon anywidget==0.9.9 ipywidgets==8.1.3"
   ]
  },
  {
   "cell_type": "markdown",
   "id": "130fb325749b5599",
   "metadata": {
    "editable": true,
    "slideshow": {
     "slide_type": ""
    },
    "tags": []
   },
   "source": [
    "Create a geometric algebra with 2 positive and one null basis vector:"
   ]
  },
  {
   "cell_type": "code",
   "execution_count": 2,
   "id": "bb9ed0b8487c91bf",
   "metadata": {
    "ExecuteTime": {
     "end_time": "2024-12-03T13:04:28.788481Z",
     "start_time": "2024-12-03T13:04:27.891519Z"
    },
    "editable": true,
    "slideshow": {
     "slide_type": ""
    },
    "tags": []
   },
   "outputs": [],
   "source": [
    "from kingdon import Algebra\n",
    "\n",
    "alg = Algebra(2, 0, 1)"
   ]
  },
  {
   "cell_type": "markdown",
   "id": "1e3f5535f8cde1a9",
   "metadata": {
    "editable": true,
    "slideshow": {
     "slide_type": ""
    },
    "tags": []
   },
   "source": [
    "Create a line using these basis vectors."
   ]
  },
  {
   "cell_type": "code",
   "execution_count": 3,
   "id": "c658b3b9c4ea0436",
   "metadata": {
    "ExecuteTime": {
     "end_time": "2024-12-03T13:04:28.819665Z",
     "start_time": "2024-12-03T13:04:28.799094Z"
    },
    "editable": true,
    "slideshow": {
     "slide_type": ""
    },
    "tags": []
   },
   "outputs": [],
   "source": [
    "L1 = alg.vector(e1=1, e2=1)  # the line \"y + x = 0\""
   ]
  },
  {
   "cell_type": "markdown",
   "id": "92e46769e5ceec3e",
   "metadata": {
    "editable": true,
    "slideshow": {
     "slide_type": ""
    },
    "tags": []
   },
   "source": [
    "Create two points which we will join into a second line. By creating this line by joining two points we can drag the points around to make things interactive."
   ]
  },
  {
   "cell_type": "code",
   "execution_count": 4,
   "id": "850ed686828490bf",
   "metadata": {
    "ExecuteTime": {
     "end_time": "2024-12-03T13:04:29.099726Z",
     "start_time": "2024-12-03T13:04:29.071958Z"
    },
    "editable": true,
    "slideshow": {
     "slide_type": ""
    },
    "tags": []
   },
   "outputs": [],
   "source": [
    "P1 = alg.vector(e0=1, e1=1, e2=-0.5).dual()  # the point at x=..., y=...\n",
    "P2 = alg.vector(e0=1, e1=0, e2=0).dual()  # origin"
   ]
  },
  {
   "cell_type": "markdown",
   "id": "42c16e422c8231d9",
   "metadata": {},
   "source": [
    "Arrays of two points are interpreted by the graph function as line segments, arrays of more points are rendered as polygons. So lets render a triangle:"
   ]
  },
  {
   "cell_type": "code",
   "execution_count": 5,
   "id": "4267d62dac9b4cb9",
   "metadata": {
    "ExecuteTime": {
     "end_time": "2024-12-03T13:04:29.130995Z",
     "start_time": "2024-12-03T13:04:29.118476Z"
    }
   },
   "outputs": [],
   "source": [
    "triangle1 = [alg.vector(e0=1, e1=1).dual(), alg.vector(e0=1, e1=0.6, e2=0.5).dual(), alg.vector(e0=1, e1=1.3, e2=0.8).dual()]"
   ]
  },
  {
   "cell_type": "markdown",
   "id": "b2dabddfa7c29758",
   "metadata": {
    "editable": true,
    "slideshow": {
     "slide_type": ""
    },
    "tags": []
   },
   "source": [
    "Render these elements using the `Algebra.graph` function. If you provide a function without arguments to `Algebra.graph`, the function will be re-evaluated everytime you drag a point.\n",
    "So pro-tip for the coming exercises: define everything within `graph_func`. "
   ]
  },
  {
   "cell_type": "code",
   "execution_count": 6,
   "id": "13200375746194b",
   "metadata": {
    "ExecuteTime": {
     "end_time": "2024-12-03T13:04:29.240083Z",
     "start_time": "2024-12-03T13:04:29.159585Z"
    },
    "editable": true,
    "slideshow": {
     "slide_type": ""
    },
    "tags": []
   },
   "outputs": [
    {
     "data": {
      "application/vnd.jupyter.widget-view+json": {
       "model_id": "c2f459c011a74df4927610bd1f6b5008",
       "version_major": 2,
       "version_minor": 1
      },
      "text/plain": [
       "GraphWidget(cayley=[['1', 'e0', 'e1', 'e2', 'e01', 'e02', 'e12', 'e012'], ['e0', '0', 'e01', 'e02', '0', '0', …"
      ]
     },
     "execution_count": 6,
     "metadata": {},
     "output_type": "execute_result"
    }
   ],
   "source": [
    "def graph_func():\n",
    "    L2 = (P1 & P2).normalized()\n",
    "    \n",
    "    return [\n",
    "        \"Spider Workshop - Elements are Transformations\",\n",
    "        0xff0000, L1, \"L1\",\n",
    "        0x540099, L2, \"L2\", P1, P2,\n",
    "        0x990077, triangle1, \"t1\",\n",
    "    ]\n",
    "\n",
    "alg.graph(\n",
    "    graph_func,\n",
    "    grid=True, labels=True,\n",
    ")"
   ]
  },
  {
   "cell_type": "markdown",
   "id": "f27c6bef65ab1b88",
   "metadata": {
    "editable": true,
    "slideshow": {
     "slide_type": ""
    },
    "tags": []
   },
   "source": [
    "## Exercises\n",
    "\n",
    "1. create and render `triangle2` by reflecting `triangle1` in `L1`\n",
    "   (Hint: recall that the triangle is just a list of points, so each point must be transformed seperatelly.)\n",
    "2. create and render `triangle3` by reflecting `triangle2` in `L2`\n",
    "3. now change the creation of `triangle3` by first multiplying `L2` and `L1`, then applying that to `triangle1`.\n",
    "4. (`L2*L1`) is a bireflection, drag the points to see how you can use this to make :\n",
    "- A)  the identity operation.\n",
    "- B)  any rotation\n",
    "- C)  any translation\n",
    "- D)  Note how the resulting translation/rotation is twice that between the original reflections!\n",
    "5. create a line L3 by normalizing the sum of (normalized) `L1` and `L2`. (observe this is indeed always the bisector)\n",
    "6. create `triangle4` by applying `(L3*L1)` to triangle;\n",
    "7. create `triangle5` by applying `P2` to `triangle1`.\n",
    "8. How do you have to move `L2` so that `triangle5` and `triangle3` overlap?\n",
    "\n",
    "## Self-reflection: We've learned ...\n",
    "\n",
    "1. Bi-reflections, aka the product of two reflections, or simply 'doing' two reflections,\n",
    "   gives us rotations and translations with twice the distance/angle as that between the mirrors.\n",
    "2. We can use the normalized sum to find a bisector giving us half the transformation, i.e. the square root.\n",
    "3. Elements ARE transformations, products of elements ARE transformations, ...\n",
    "4. A point reflection is the same as an orthogonal bi-reflection.\n",
    "\n",
    "## Bonus + extra credit\n",
    "\n",
    "Note - this is a difficult question - we have not covered the details needed for this.\n",
    "\n",
    "1. Change the dimensionality of the algebra from 2 to 3. Why is `triangle3` still there but `triangle4` isn't?\n",
    "2. Try to fix it (hint: first render `(L2|alg.blades.e012.dual()))` - in 2D `e012.dual()`, or the dual of the pseudoscalar is\n",
    "   just the scalar `1` - but in 3D it represents the plane we are working in - an assumption\n",
    "   we must formalize for things to keep working unmodified."
   ]
  },
  {
   "cell_type": "code",
   "execution_count": 7,
   "id": "5a830592-2239-475a-bc09-399e39d77d7d",
   "metadata": {
    "jupyter": {
     "source_hidden": true
    }
   },
   "outputs": [
    {
     "data": {
      "application/vnd.jupyter.widget-view+json": {
       "model_id": "e81be1e388d74e0d89c4454b88c8f16b",
       "version_major": 2,
       "version_minor": 1
      },
      "text/plain": [
       "SolutionWidget()"
      ]
     },
     "execution_count": 7,
     "metadata": {},
     "output_type": "execute_result"
    }
   ],
   "source": [
    "from solution_widget import SolutionWidget\n",
    "\n",
    "SolutionWidget(exercise='spider2')"
   ]
  }
 ],
 "metadata": {
  "kernelspec": {
   "display_name": "Python 3 (ipykernel)",
   "language": "python",
   "name": "python3"
  },
  "language_info": {
   "codemirror_mode": {
    "name": "ipython",
    "version": 3
   },
   "file_extension": ".py",
   "mimetype": "text/x-python",
   "name": "python",
   "nbconvert_exporter": "python",
   "pygments_lexer": "ipython3",
   "version": "3.12.8"
  }
 },
 "nbformat": 4,
 "nbformat_minor": 5
}
