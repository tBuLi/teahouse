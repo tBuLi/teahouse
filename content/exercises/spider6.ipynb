{
 "cells": [
  {
   "cell_type": "markdown",
   "id": "1e466362c31e9631",
   "metadata": {},
   "source": [
    "# Spider Workshop - Exercise 6: A Full Spider!\n",
    "(These exercises were prepared for ganja.js by Steven De Keninck for [GAME23](https://bivector.net/game2023.html).)\n",
    "\n",
    "At this point it becomes more of a programming exercise. The idea is to duplicate\n",
    "our spider leg 8 times, and animate the entire spider by setting new 'goals' for\n",
    "each 'foot', updating targets when goals are far enough away, and making sure not\n",
    "to ever do this for adjacent legs simultaniously."
   ]
  },
  {
   "cell_type": "code",
   "execution_count": 1,
   "id": "initial_id",
   "metadata": {
    "editable": true,
    "slideshow": {
     "slide_type": ""
    },
    "tags": []
   },
   "outputs": [
    {
     "name": "stdout",
     "output_type": "stream",
     "text": [
      "Note: you may need to restart the kernel to use updated packages.\n"
     ]
    }
   ],
   "source": [
    "%pip install -q kingdon anywidget==0.9.9 ipywidgets==8.1.3"
   ]
  },
  {
   "cell_type": "markdown",
   "id": "130fb325749b5599",
   "metadata": {
    "editable": true,
    "slideshow": {
     "slide_type": ""
    },
    "tags": []
   },
   "source": [
    "Create a geometric algebra with 3 positive and one null basis vector:"
   ]
  },
  {
   "cell_type": "code",
   "execution_count": 2,
   "id": "bb9ed0b8487c91bf",
   "metadata": {
    "ExecuteTime": {
     "end_time": "2024-12-05T14:02:01.772578100Z",
     "start_time": "2024-12-04T11:28:33.859794Z"
    },
    "editable": true,
    "slideshow": {
     "slide_type": ""
    },
    "tags": []
   },
   "outputs": [],
   "source": [
    "from kingdon import Algebra, MultiVector\n",
    "\n",
    "alg = Algebra(3, 0, 1)"
   ]
  },
  {
   "cell_type": "markdown",
   "id": "1e3f5535f8cde1a9",
   "metadata": {
    "editable": true,
    "slideshow": {
     "slide_type": ""
    },
    "tags": []
   },
   "source": [
    "In lesson 4 we learned how to translate along a line. Let's make this into a function:"
   ]
  },
  {
   "cell_type": "code",
   "execution_count": 3,
   "id": "c658b3b9c4ea0436",
   "metadata": {
    "ExecuteTime": {
     "end_time": "2024-12-05T14:02:01.775578600Z",
     "start_time": "2024-12-04T11:28:34.620266Z"
    },
    "editable": true,
    "slideshow": {
     "slide_type": ""
    },
    "tags": []
   },
   "outputs": [],
   "source": [
    "def tr(line, dist: float):\n",
    "    \"\"\" Translate a distance along a line. \"\"\"\n",
    "    horizon = alg.blades.e0\n",
    "    origin = horizon.dual()\n",
    "    return ( (-0.5 * dist * horizon) ^ (line.normalized() | origin)).exp()"
   ]
  },
  {
   "cell_type": "markdown",
   "id": "92e46769e5ceec3e",
   "metadata": {
    "editable": true,
    "slideshow": {
     "slide_type": ""
    },
    "tags": []
   },
   "source": [
    "We create a function that produces a spiderleg for us, at a given angle around the e13 axis:"
   ]
  },
  {
   "cell_type": "code",
   "execution_count": 4,
   "id": "850ed686828490bf",
   "metadata": {
    "ExecuteTime": {
     "end_time": "2024-12-05T14:02:01.776085200Z",
     "start_time": "2024-12-04T11:28:34.666965Z"
    },
    "editable": true,
    "slideshow": {
     "slide_type": ""
    },
    "tags": []
   },
   "outputs": [],
   "source": [
    "from dataclasses import dataclass\n",
    "\n",
    "@dataclass\n",
    "class Leg:\n",
    "    chain: list[MultiVector]\n",
    "    start: float = 0\n",
    "    active: bool = False\n",
    "\n",
    "def create_leg(angle=0) -> Leg:\n",
    "    R = (-0.5 * angle * alg.blades.e13).exp()\n",
    "    chain = [\n",
    "        alg.vector(e0=1, e1=0, e2=0, e3=0).dual(),\n",
    "        alg.vector(e0=1, e1=0.5, e2=0, e3=0).dual(),\n",
    "        alg.vector(e0=1, e1=1, e2=0, e3=0).dual(),\n",
    "        alg.vector(e0=1, e1=1.5, e2=0, e3=0).dual(),\n",
    "    ]\n",
    "    chain = [R >> p for p in chain]\n",
    "    return Leg(chain)"
   ]
  },
  {
   "cell_type": "markdown",
   "id": "42c16e422c8231d9",
   "metadata": {},
   "source": [
    "IK function from the previous exercise with one extra constraint: to keep the last segment of the leg straight."
   ]
  },
  {
   "cell_type": "code",
   "execution_count": 5,
   "id": "4267d62dac9b4cb9",
   "metadata": {
    "ExecuteTime": {
     "end_time": "2024-12-05T14:02:01.777094700Z",
     "start_time": "2024-12-04T11:28:34.696715Z"
    }
   },
   "outputs": [],
   "source": [
    "UP = alg.blades.e2.dual()\n",
    "\n",
    "def inverse_kinematics(C, Base, Target) -> None:\n",
    "    \"\"\"Our IK function takes a chain, a base and a target, and updates the chain *in place* to a new chain.\"\"\"\n",
    "    C[3] = Target\n",
    "    # Constraint 3: keep the last segment straight.\n",
    "    C[2] = C[3] + 0.5 * UP\n",
    "    \n",
    "    for i in reversed(range(3)): \n",
    "        C[i] = tr(C[i] & C[i+1], 0.5) >> C[i+1]\n",
    "    \n",
    "    # Constraint 1: fix the leg plane\n",
    "    plane = Base & Target & UP\n",
    "    for i in range(1, len(C) - 1):\n",
    "        C[i] = (C[i] | plane) / plane\n",
    "    \n",
    "    # Constraint 2: keep the first segment up\n",
    "    plane2 = alg.blades.e13 | Base\n",
    "    signed_distance = (plane2 & C[1]).e\n",
    "    if signed_distance < 0:\n",
    "        C[1] = (C[1] | plane2) / plane2\n",
    "    \n",
    "    # angle = (((C[1] & C[2] | C[2]) ^ plane) | (C[2] & C[3])).e\n",
    "    # if angle < 0:\n",
    "    #     C[2] =  (C[1] & C[3]).normalized() >> C[2]\n",
    "    \n",
    "    C[0] = Base\n",
    "    for i in range(1, 3 + 1):\n",
    "        C[i] = tr(C[i-1] & C[i], -0.5) >> C[i-1]"
   ]
  },
  {
   "cell_type": "markdown",
   "id": "123a1ae1de55ac47",
   "metadata": {},
   "source": [
    "Now we create a base, some targets, and some legs."
   ]
  },
  {
   "cell_type": "code",
   "execution_count": 6,
   "id": "72785fd3399ce086",
   "metadata": {
    "ExecuteTime": {
     "end_time": "2024-12-05T14:02:01.777094700Z",
     "start_time": "2024-12-04T11:28:34.729835Z"
    }
   },
   "outputs": [],
   "source": [
    "import math\n",
    "\n",
    "base = alg.vector(e0=1, e1=-0.5, e2=0, e3=0).dual()\n",
    "targets = []\n",
    "legs = []\n",
    "for i in range(10):\n",
    "    if i == 0 or i == 5: \n",
    "        continue\n",
    "    angle = i*2*math.pi/10 + math.pi/2\n",
    "    target = alg.vector(e0=1, e1=0.8, e2=-1, e3=0).dual()\n",
    "    targets.append( (-0.5 * angle * alg.blades.e13).exp() >> target)\n",
    "    legs.append(create_leg(angle))"
   ]
  },
  {
   "cell_type": "markdown",
   "id": "d59640272ca56beb",
   "metadata": {},
   "source": [
    "Now lets create the future positions for our targets. So targets is where the legs are, goal where they want to be. "
   ]
  },
  {
   "cell_type": "code",
   "execution_count": 7,
   "id": "51ab3f95fe687d45",
   "metadata": {
    "ExecuteTime": {
     "end_time": "2024-12-05T14:02:01.779118300Z",
     "start_time": "2024-12-04T11:28:34.762134Z"
    }
   },
   "outputs": [],
   "source": [
    "INITIAL_GOALS = [t + 0 for t in targets]  # copy the targets."
   ]
  },
  {
   "cell_type": "markdown",
   "id": "b2dabddfa7c29758",
   "metadata": {
    "editable": true,
    "slideshow": {
     "slide_type": ""
    },
    "tags": []
   },
   "source": [
    "Render these elements using the `Algebra.graph` function. If you provide a function without arguments to `Algebra.graph`, the function will be re-evaluated everytime you drag a point.\n",
    "So pro-tip for the coming exercises: define everything within `graph_func`. "
   ]
  },
  {
   "cell_type": "code",
   "execution_count": 8,
   "id": "13200375746194b",
   "metadata": {
    "ExecuteTime": {
     "end_time": "2024-12-05T14:02:01.780118Z",
     "start_time": "2024-12-04T11:28:34.792848Z"
    },
    "editable": true,
    "slideshow": {
     "slide_type": ""
    },
    "tags": []
   },
   "outputs": [
    {
     "data": {
      "application/vnd.jupyter.widget-view+json": {
       "model_id": "ace2d0f7945f48b58e8fe245a17c5540",
       "version_major": 2,
       "version_minor": 1
      },
      "text/plain": [
       "GraphWidget(cayley=[['1', 'e0', 'e1', 'e2', 'e3', 'e01', 'e02', 'e03', 'e12', 'e13', 'e23', 'e012', 'e013', 'e…"
      ]
     },
     "execution_count": 8,
     "metadata": {},
     "output_type": "execute_result"
    }
   ],
   "source": [
    "import itertools\n",
    "\n",
    "time = 0\n",
    "\n",
    "def graph_func():\n",
    "    global time, base\n",
    "\n",
    "    # Grab the time\n",
    "    time += 1/60\n",
    "\n",
    "    # Resolve the IK\n",
    "    for leg, target in zip(legs, targets):\n",
    "        inverse_kinematics(leg.chain, base, target)\n",
    "    # move the goals forward\n",
    "\n",
    "    # loop over all legs. If our target is too far from our goal, and the legs before\n",
    "    # and after us are not active, then we become active.\n",
    "\n",
    "    # loop over all legs, if we are active move our target towards its goal.\n",
    "\n",
    "    # Update our base to be at the average of our targets.\n",
    "\n",
    "    # now return a list of things to render.\n",
    "    return [\n",
    "        \"Spider Workshop - Spider!\",\n",
    "        *itertools.chain(*[itertools.pairwise(leg.chain) for leg in legs]),  # Blessed are those that know the standard library.\n",
    "        base, \"B\"\n",
    "    ]\n",
    "\n",
    "alg.graph(\n",
    "    graph_func,\n",
    "    grid=True, labels=True, lineWidth=4, pointRadius=4, animate=True,\n",
    ")"
   ]
  },
  {
   "cell_type": "markdown",
   "id": "f27c6bef65ab1b88",
   "metadata": {
    "editable": true,
    "slideshow": {
     "slide_type": ""
    },
    "tags": []
   },
   "source": [
    "## Exercises:\n",
    "\n",
    "Things are now down to programming mechanics. Follow the guides in the code\n",
    "and try to get the spider to walk around.\n",
    "\n",
    "1. To move the goals forward, you could rotate them a little bit each step\n",
    "   using a rotor. Once you calculate the rotor R, you can move the goals with\n",
    "     `goals = [R >> g for g in goals]`\n",
    "\n",
    "2. We now need to check if our goals have moved enough for our spider to move\n",
    "   its leg to the new goal. You can use the following check\n",
    "     `(targets[i] & goals[i]).norm().e > 0.15`\n",
    "\n",
    "   It creates the line between the target and the goal, and checks its length.\n",
    "   We also only want to become active if our leg, the leg in front of us, and \n",
    "   the leg behind us are not active. \n",
    "   If all these conditions are met, we become an active leg. In this case you\n",
    "   will want to record the start time of the animation and take a copy of\n",
    "   the current target position. \n",
    "\n",
    "   `legs[i].start = time; legs[i].active = true; legs[i].pos = 1*targets[i];`\n",
    "\n",
    "3. Loop over all legs again, this time to update the active legs and animate\n",
    "   their target position. You want targets[i] to animate from legs[i].pos to\n",
    "   goals[i], and lift a bit while doing so. If the goal is reached, the leg\n",
    "   should also become inactive.\n",
    "\n",
    "4. We will also need to update the position of our base each frame to the \n",
    "   average position of all current targets (moved slightly up). To do this \n",
    "   use the built-in `sum` function. \n",
    "\n",
    "   sum(targets).normalized()+0.35*alg.blades.e2.dual()  \n",
    "\n",
    "## Bonus\n",
    "\n",
    "5. Add shadows."
   ]
  },
  {
   "cell_type": "code",
   "execution_count": 9,
   "id": "22b46ca5-eac3-40f3-9334-149645c66911",
   "metadata": {
    "jupyter": {
     "source_hidden": true
    }
   },
   "outputs": [
    {
     "data": {
      "application/vnd.jupyter.widget-view+json": {
       "model_id": "41df244afac241a882399ea2d95dba8c",
       "version_major": 2,
       "version_minor": 1
      },
      "text/plain": [
       "SolutionWidget()"
      ]
     },
     "execution_count": 9,
     "metadata": {},
     "output_type": "execute_result"
    }
   ],
   "source": [
    "from exercises.solution_widget import SolutionWidget\n",
    "\n",
    "SolutionWidget(exercise='spider6')"
   ]
  }
 ],
 "metadata": {
  "kernelspec": {
   "display_name": "Python 3 (ipykernel)",
   "language": "python",
   "name": "python3"
  },
  "language_info": {
   "codemirror_mode": {
    "name": "ipython",
    "version": 3
   },
   "file_extension": ".py",
   "mimetype": "text/x-python",
   "name": "python",
   "nbconvert_exporter": "python",
   "pygments_lexer": "ipython3",
   "version": "3.10.15"
  }
 },
 "nbformat": 4,
 "nbformat_minor": 5
}
