{
 "cells": [
  {
   "metadata": {},
   "cell_type": "markdown",
   "source": [
    "# Boids\n",
    "\n",
    "This is a simple 2DPGA implementation of boids algorithm. I got inspired to try this after watching this Smarter Every Day video:\n",
    "\n",
    "[<img src=https://img.youtube.com/vi/4LWmRuB-uNU/maxresdefault.jpg width=360/>](https://www.youtube.com/watch?v=4LWmRuB-uNU)\n",
    "\n",
    "Further inspiration for the implementation was taken from [the code base shown in the video](https://eater.net/boids).\n",
    "\n",
    "The current implementation just copies the algorithm as is; in the future I would like to figure out how to do this using forgues and proper PGA based dynamics. However, this notebook nicely **demonstrates the kingdon+numpy array interoperability**."
   ],
   "id": "31fa0e0ccca76566"
  },
  {
   "metadata": {
    "ExecuteTime": {
     "end_time": "2025-01-08T10:34:51.242647Z",
     "start_time": "2025-01-08T10:34:48.969263Z"
    }
   },
   "cell_type": "code",
   "source": "%pip install -q kingdon anywidget==0.9.9 ipywidgets==8.1.3",
   "id": "1f22add27b4d411b",
   "outputs": [
    {
     "name": "stdout",
     "output_type": "stream",
     "text": [
      "Note: you may need to restart the kernel to use updated packages.\n"
     ]
    }
   ],
   "execution_count": 1
  },
  {
   "metadata": {
    "ExecuteTime": {
     "end_time": "2025-01-08T10:34:52.161447Z",
     "start_time": "2025-01-08T10:34:51.414410Z"
    }
   },
   "cell_type": "code",
   "source": [
    "from kingdon import Algebra\n",
    "import numpy as np"
   ],
   "id": "1155d5578b87b506",
   "outputs": [],
   "execution_count": 2
  },
  {
   "metadata": {
    "ExecuteTime": {
     "end_time": "2025-01-08T10:34:52.349622Z",
     "start_time": "2025-01-08T10:34:52.345485Z"
    }
   },
   "cell_type": "code",
   "source": [
    "d = 2\n",
    "alg = Algebra(d, 0, 1, graded=False)"
   ],
   "id": "d4ef7d954aff5b6d",
   "outputs": [],
   "execution_count": 3
  },
  {
   "metadata": {
    "ExecuteTime": {
     "end_time": "2025-01-08T10:34:52.409264Z",
     "start_time": "2025-01-08T10:34:52.372356Z"
    }
   },
   "cell_type": "code",
   "source": [
    "turn_factor = 0.1\n",
    "visual_range = 20\n",
    "protected_range = 8\n",
    "centering_factor = 0.005\n",
    "avoid_factor = 0.005\n",
    "matching_factor = 0.02\n",
    "max_speed_of_boid = 2\n",
    "min_speed_of_boid = 0.5\n",
    "box_size = 100\n",
    "nboids = 30\n",
    "\n",
    "boidvals = np.ones((d+1, nboids))\n",
    "boidvals[1:] = box_size * np.random.uniform(-0.5, 0.5, (d, nboids))\n",
    "boidvelvals = np.zeros((d+1, nboids))\n",
    "boidvelvals[1:] = max_speed_of_boid * np.random.uniform(-0.5, 0.5, (d, nboids)) \n",
    "boids = alg.vector(boidvals).dual()\n",
    "boidvels = alg.vector(boidvelvals).dual()  #, keys=('e1', 'e2')\n",
    "\n",
    "# Create a simple shape for the boids.\n",
    "boidshape = [alg.vector(e0=1, e1=0, e2=2).dual(), alg.vector(e0=1, e1=0.5, e2=-1).dual(), alg.vector(e0=1, e1=0, e2=0).dual(), alg.vector(e0=1, e1=-0.5, e2=-1).dual()]"
   ],
   "id": "a641381f2d9dd223",
   "outputs": [],
   "execution_count": 4
  },
  {
   "metadata": {},
   "cell_type": "markdown",
   "source": "The next cell makes the boundaries for the boids.",
   "id": "f7750ac188e9e5b8"
  },
  {
   "metadata": {
    "ExecuteTime": {
     "end_time": "2025-01-08T10:34:52.479896Z",
     "start_time": "2025-01-08T10:34:52.425148Z"
    }
   },
   "cell_type": "code",
   "source": [
    "points = [\n",
    "    alg.vector([1.0, *((float(x)-0.5)*box_size for x in bin(i)[2:].zfill(d))]).dual()\n",
    "    for i in range(2**d)\n",
    "]\n",
    "edges = [\n",
    "    [a, b]\n",
    "    for i, a in enumerate(points)\n",
    "    for j, b in enumerate(points)\n",
    "    if not (i<=j or (i ^ j) & ((i ^ j) - 1))\n",
    "]\n",
    "boundaries = [alg.rp(*edges[0]), -alg.rp(*edges[1]), alg.rp(*edges[2]), -alg.rp(*edges[3])] # Handpicked signs such that the signs are always positive if a boid is on the inside.\n",
    "boundary_direction = [(b.normalized() @ alg.blades.e0.dual()).dual() for b in boundaries]"
   ],
   "id": "f7ed6360d138e640",
   "outputs": [],
   "execution_count": 5
  },
  {
   "metadata": {
    "ExecuteTime": {
     "end_time": "2025-01-08T10:34:52.504043Z",
     "start_time": "2025-01-08T10:34:52.496647Z"
    }
   },
   "cell_type": "code",
   "source": [
    "def graph_func():\n",
    "    global boids, boidvels\n",
    "    \n",
    "    for i, (boid, boidvel) in enumerate(zip(boids, boidvels)):\n",
    "        d = (boid & boids).norm().e  # Distance to every other boid.\n",
    "        neighbors = d < visual_range\n",
    "        pos_avg = boids[neighbors].map(np.mean)\n",
    "        vel_avg = boidvels[neighbors].map(np.mean)\n",
    "        # Strive to stay together\n",
    "        boidvels[i] += (pos_avg - boid) * centering_factor\n",
    "        # Strive to match velocity\n",
    "        boidvels[i] += (vel_avg - boidvel) * matching_factor\n",
    "        # Avoid collision with those neighbors too close\n",
    "        too_close = d < protected_range\n",
    "        close = (boid - boids[too_close]).map(np.sum)\n",
    "        boidvels[i] += close*avoid_factor\n",
    "        \n",
    "    # Reflect of the edges.\n",
    "    \n",
    "    boundary_signs = boids ^ boundaries\n",
    "    for signed_distance, direction in zip(boundary_signs, boundary_direction):\n",
    "        # if the sign of pss is negative, that boid is out of bounds! Make it fly back in the opposite direction.\n",
    "        out_of_bounds = signed_distance.e012 < 0\n",
    "        boidvels[out_of_bounds] += turn_factor * direction#* (direction - boids[out_of_bounds])# * signed_distance.e012[out_of_bounds]\n",
    "\n",
    "    # Impose the speed of boid\n",
    "    B = boidvels.dual().map(np.nan_to_num)\n",
    "    speed = B.norm().e\n",
    "    maniacs = speed > max_speed_of_boid\n",
    "    losers = speed < min_speed_of_boid\n",
    "    B[maniacs] = B[maniacs].normalized() * max_speed_of_boid\n",
    "    B[losers] = B[losers].normalized() * min_speed_of_boid\n",
    "    boidvels = B.undual()\n",
    "    \n",
    "    boids = boids + boidvels\n",
    "    return [\n",
    "        *[(-boid*alg.blades.e12).sqrt() >> ((v.dual()*alg.blades.e2).sqrt() >> boidshape) for boid, v in zip(boids, boidvels)],\n",
    "    ]\n",
    "\n"
   ],
   "id": "6dec889e0a8acf89",
   "outputs": [],
   "execution_count": 6
  },
  {
   "metadata": {
    "ExecuteTime": {
     "end_time": "2025-01-08T10:34:52.581806Z",
     "start_time": "2025-01-08T10:34:52.520065Z"
    }
   },
   "cell_type": "code",
   "source": [
    "alg.graph(\n",
    "    graph_func,\n",
    "    animate=1,\n",
    "    scale=0.03,\n",
    "    lineWidth=6,\n",
    "    labels=True,\n",
    "    width='100%',\n",
    ")"
   ],
   "id": "bb1dee8867cb7c37",
   "outputs": [
    {
     "data": {
      "text/plain": [
       "GraphWidget(cayley=[['1', 'e0', 'e1', 'e2', 'e01', 'e02', 'e12', 'e012'], ['e0', '0', 'e01', 'e02', '0', '0', …"
      ],
      "application/vnd.jupyter.widget-view+json": {
       "version_major": 2,
       "version_minor": 1,
       "model_id": "f707af3291af41d3a6a214df81cf4ee6"
      }
     },
     "execution_count": 7,
     "metadata": {},
     "output_type": "execute_result"
    }
   ],
   "execution_count": 7
  },
  {
   "metadata": {
    "ExecuteTime": {
     "end_time": "2025-01-08T10:34:52.598769Z",
     "start_time": "2025-01-08T10:34:52.595313Z"
    }
   },
   "cell_type": "code",
   "source": "",
   "id": "566de11d8ebd3dac",
   "outputs": [],
   "execution_count": null
  }
 ],
 "metadata": {
  "kernelspec": {
   "display_name": "Python 3",
   "language": "python",
   "name": "python3"
  },
  "language_info": {
   "codemirror_mode": {
    "name": "ipython",
    "version": 2
   },
   "file_extension": ".py",
   "mimetype": "text/x-python",
   "name": "python",
   "nbconvert_exporter": "python",
   "pygments_lexer": "ipython2",
   "version": "2.7.6"
  }
 },
 "nbformat": 4,
 "nbformat_minor": 5
}
