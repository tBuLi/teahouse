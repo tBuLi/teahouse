{
 "cells": [
  {
   "cell_type": "markdown",
   "id": "d8c49f8f-fa02-4498-9422-d8255f957fba",
   "metadata": {},
   "source": [
    "# Fabrik Inverse Kinematics solver\n",
    "([Taken from the ganja.js coffeeshop](https://enkimute.github.io/ganja.js/examples/coffeeshop.html#pga2d_inverse_kinematics))\n",
    "\n",
    "In the inverse kinematics problem we need to calculate joint angles of a kinematic chain so its base remains fixed and its tip reaches a given target. This is a highly non-linear problem with many solutions. We implement a solver that tries to minimize the differences on all remaining degrees of freedom.\n",
    "  \n",
    "This algorithm readily translates to 3D, is efficient and very well received by artists in a cg animation context.\n",
    "\n",
    "First we create an algebra. *Feel free to try 3D instead of 2D!*"
   ]
  },
  {
   "cell_type": "code",
   "execution_count": 1,
   "id": "64cf63ff-2590-42ea-a865-bd49067a406a",
   "metadata": {},
   "outputs": [],
   "source": [
    "from kingdon import Algebra\n",
    "import numpy as np\n",
    "from timeit import default_timer\n",
    "from functools import wraps\n",
    "\n",
    "def tonp(func):\n",
    "    @wraps\n",
    "    def wrapped_func(*args, **kwargs):\n",
    "        return np.array(func(*args, **kwargs))\n",
    "    return func\n",
    "\n",
    "alg = Algebra(2, 0, 1, wrapper=tonp)"
   ]
  },
  {
   "cell_type": "markdown",
   "id": "5f62dc3e-42ee-42ab-a88a-01b6328e2c8b",
   "metadata": {},
   "source": [
    "We then need to set the number of points in the chain, and we initialize points equally along the chain."
   ]
  },
  {
   "cell_type": "code",
   "execution_count": 2,
   "id": "f198e399-369b-492f-bdb1-f40daa5df929",
   "metadata": {},
   "outputs": [],
   "source": [
    "l = 6\n",
    "d = 3 / l\n",
    "points = [alg.vector(e0=1, e1=i * d - 1.5, e2=0, e3=0).dual() \n",
    "               for i in range(l + 1)]"
   ]
  },
  {
   "cell_type": "markdown",
   "id": "041c94e6-20a3-4ac9-a665-60d5d9046a4f",
   "metadata": {},
   "source": [
    "Now we define the actual IK solver. Last point in the chain `c` is the target. We set the tip as the target, then cycle to the base and back restoring original lengths."
   ]
  },
  {
   "cell_type": "code",
   "execution_count": 3,
   "id": "7b26ca10-0588-4de2-99eb-2c1ff29d62d3",
   "metadata": {},
   "outputs": [],
   "source": [
    "def translator(line, dist):\n",
    "    \"\"\" Translate along the line `line` by a distance `dist`. \"\"\"\n",
    "    e, e0 = alg.blades.e, alg.blades.e0\n",
    "    return 1 - 0.5 * dist * (e0 * line.normalized()*e0.dual())\n",
    "\n",
    "def inverse_kinematics(c):\n",
    "    # Run four relaxation steps\n",
    "    for j in range(4):\n",
    "        # Set the tip to the target. (this will change the length of the last segment.)\n",
    "        c[-2] = c[-1]\n",
    "        # Run backwards to the base and restore the lengths along the chain.\n",
    "        for i in range(l-2, 0, -1):\n",
    "            c[i] = translator(c[i] & c[i + 1], d) >> c[i + 1]\n",
    "        # Loop the other way from base to tip again restoring all lengths.\n",
    "        for i in range(1, l):\n",
    "            c[i] = translator(c[i - 1] & c[i], -d) >> c[i - 1]"
   ]
  },
  {
   "cell_type": "code",
   "execution_count": 4,
   "id": "f6d3cd9e-26db-4748-9075-d10162b21c69",
   "metadata": {},
   "outputs": [
    {
     "data": {
      "application/vnd.jupyter.widget-view+json": {
       "model_id": "b9299ab7f99b4527a5d6832566c291a3",
       "version_major": 2,
       "version_minor": 0
      },
      "text/plain": [
       "GraphWidget(cayley=[['1', 'e0', 'e1', 'e2', 'e01', 'e02', 'e12', 'e012'], ['e0', '0', 'e01', 'e02', '0', '0', …"
      ]
     },
     "execution_count": 4,
     "metadata": {},
     "output_type": "execute_result"
    }
   ],
   "source": [
    "def graph_func():\n",
    "    inverse_kinematics(points)\n",
    "    return [\n",
    "        0x224488, f\"Inverse Kinematics\",\n",
    "        0x008844, *zip(points[1:-1], points[:-2]), # Render line segments [[A,B],[B,C],..]\n",
    "        0x880088, points[0], \"Base\",               # Render base\n",
    "        0x00DD88, *points[1:l],                    # Render joint points. [A,B,C,..]  \n",
    "        0x880088, points[l], \"Target\",             # Render target in purple\n",
    "    ]\n",
    "\n",
    "g = alg.graph(\n",
    "    graph_func, grid=True, lineWidth=6, labels=True,\n",
    ")\n",
    "g"
   ]
  },
  {
   "cell_type": "code",
   "execution_count": null,
   "id": "5992344f-e17f-4742-8bdd-fb97a3b768c8",
   "metadata": {},
   "outputs": [],
   "source": []
  }
 ],
 "metadata": {
  "kernelspec": {
   "display_name": "Python 3 (ipykernel)",
   "language": "python",
   "name": "python3"
  },
  "language_info": {
   "codemirror_mode": {
    "name": "ipython",
    "version": 3
   },
   "file_extension": ".py",
   "mimetype": "text/x-python",
   "name": "python",
   "nbconvert_exporter": "python",
   "pygments_lexer": "ipython3",
   "version": "3.10.13"
  }
 },
 "nbformat": 4,
 "nbformat_minor": 5
}
