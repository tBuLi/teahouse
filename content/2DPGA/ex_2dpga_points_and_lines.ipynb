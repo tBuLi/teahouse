{
 "cells": [
  {
   "cell_type": "markdown",
   "metadata": {},
   "source": [
    "# 2DPGA: Points and Lines\n",
    "\n",
    "This example shows some basic operations on points and lines using 2DPGA.\n",
    "\n",
    "Based on https://enkimute.github.io/ganja.js/examples/coffeeshop.html#pga2d_points_and_lines."
   ]
  },
  {
   "cell_type": "markdown",
   "metadata": {},
   "source": [
    "First we create 2DPGA, and add its basis blades to the local namespace."
   ]
  },
  {
   "cell_type": "code",
   "execution_count": 1,
   "metadata": {},
   "outputs": [],
   "source": [
    "from kingdon import Algebra\n",
    "\n",
    "alg = Algebra(2, 0, 1)\n",
    "locals().update(alg.blades)"
   ]
  },
  {
   "cell_type": "markdown",
   "metadata": {},
   "source": [
    "Next, make formulas to construct points and lines from coefficients.\n",
    "In 2D PGA, grade-1 elements or vectors (e0,e1,e2) represent reflections AND lines (the invariant of a reflection)."
   ]
  },
  {
   "cell_type": "code",
   "execution_count": 2,
   "metadata": {},
   "outputs": [],
   "source": [
    "line = lambda a, b, c: a*e1 + b*e2 + c*e0"
   ]
  },
  {
   "cell_type": "markdown",
   "metadata": {},
   "source": [
    "Grade-2 elements or bivectors (e01,e02,e12) represent rotations/translations AND points/infinite points (the invariant of a rotation/translation). We define them using the dualisation operator (.dual()) to be independent of choice of basis (e.g. e12 vs e21)."
   ]
  },
  {
   "cell_type": "code",
   "execution_count": 3,
   "metadata": {},
   "outputs": [],
   "source": [
    "point = lambda x, y: (e0 + x*e1 + y*e2).dual()"
   ]
  },
  {
   "cell_type": "markdown",
   "metadata": {},
   "source": [
    "Construct the points $A$, $B$, and $C$."
   ]
  },
  {
   "cell_type": "code",
   "execution_count": 4,
   "metadata": {},
   "outputs": [],
   "source": [
    "A = point(-1, -1)\n",
    "B = point(-1, 1)\n",
    "C = point(1, 1)"
   ]
  },
  {
   "cell_type": "markdown",
   "metadata": {},
   "source": [
    "Define the line \n",
    "$$ y = 0.5 - x \\implies x + y - 0.5 = 0$$"
   ]
  },
  {
   "cell_type": "code",
   "execution_count": 5,
   "metadata": {},
   "outputs": [],
   "source": [
    "L = line(1, 1, -0.5)"
   ]
  },
  {
   "cell_type": "markdown",
   "metadata": {},
   "source": [
    "A line can also be defined by JOINING ($\\vee$) two points. Mathematically this is done with the VEE operator $\\vee$, which in kingdon code is implemented with `&`. Let us create the line \n",
    "    $$ M = C \\vee A $$\n",
    "Moreover, we define the line M as a function so it will update when C or A are dragged:"
   ]
  },
  {
   "cell_type": "code",
   "execution_count": 6,
   "metadata": {},
   "outputs": [],
   "source": [
    "M = lambda: C & A"
   ]
  },
  {
   "cell_type": "markdown",
   "metadata": {},
   "source": [
    "Similarly, a point can be defined by MEETING (^) two lines.\n",
    "Again, we define the point D as a function so it will update when\n",
    "L or M change. "
   ]
  },
  {
   "cell_type": "code",
   "execution_count": 7,
   "metadata": {},
   "outputs": [],
   "source": [
    "D = lambda: L ^ M"
   ]
  },
  {
   "cell_type": "code",
   "execution_count": 8,
   "metadata": {},
   "outputs": [
    {
     "data": {
      "application/vnd.jupyter.widget-view+json": {
       "model_id": "809e6ec2d04a4c60b91e517dc0727da4",
       "version_major": 2,
       "version_minor": 0
      },
      "text/plain": [
       "GraphWidget(cayley=[['1', 'e0', 'e1', 'e2', 'e01', 'e02', 'e12', 'e012'], ['e0', '0', 'e01', 'e02', '0', '0', …"
      ]
     },
     "execution_count": 8,
     "metadata": {},
     "output_type": "execute_result"
    }
   ],
   "source": [
    "g = alg.graph(\n",
    "    \"Drag A,B,C\",   # First label is used as title.\n",
    "    0xD0FFE1,       # Numbers are colors - use hex!\n",
    "    [A,B,C],        # render polygon ABC.\n",
    "    0x882288,       # Set the color to purple.\n",
    "    [B,C],          # Render line segment from B to C. \n",
    "    0x00AA88,       # Medium green.\n",
    "    L, \"L\", M, \"M\", # Render and label lines.\n",
    "    0x224488,       # Set color blue.\n",
    "    D, \"D\",         # Intersection point of L and M\n",
    "    0x008844,       # Set darker green\n",
    "    A, \"A\",         # Render point A and label it.\n",
    "    B, \"B\",         # Render point B and label it.\n",
    "    C, \"C\",         # Render point C and label it.\n",
    "    lineWidth=3, grid=True, labels=True\n",
    ")\n",
    "g"
   ]
  },
  {
   "cell_type": "code",
   "execution_count": null,
   "metadata": {},
   "outputs": [],
   "source": []
  }
 ],
 "metadata": {
  "kernelspec": {
   "display_name": "Python 3 (ipykernel)",
   "language": "python",
   "name": "python3"
  },
  "language_info": {
   "codemirror_mode": {
    "name": "ipython",
    "version": 3
   },
   "file_extension": ".py",
   "mimetype": "text/x-python",
   "name": "python",
   "nbconvert_exporter": "python",
   "pygments_lexer": "ipython3",
   "version": "3.10.13"
  }
 },
 "nbformat": 4,
 "nbformat_minor": 4
}
