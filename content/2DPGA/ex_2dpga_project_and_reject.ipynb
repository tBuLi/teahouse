{
 "cells": [
  {
   "cell_type": "markdown",
   "metadata": {},
   "source": [
    "# 2DPGA: Project and reject\n",
    "\n",
    "This example shows how to perform projection and rejection, using 2DPGA.\n",
    "\n",
    "Based on https://enkimute.github.io/ganja.js/examples/coffeeshop.html#pga2d_project_and_reject."
   ]
  },
  {
   "cell_type": "markdown",
   "metadata": {},
   "source": [
    "First we create 2DPGA, and add its basis blades to the local namespace."
   ]
  },
  {
   "cell_type": "code",
   "execution_count": 1,
   "metadata": {},
   "outputs": [],
   "source": [
    "from kingdon import Algebra\n",
    "\n",
    "alg = Algebra(2, 0, 1)\n",
    "locals().update(alg.blades)"
   ]
  },
  {
   "cell_type": "markdown",
   "metadata": {},
   "source": [
    "Next, make formulas to construct points and lines from coefficients, and to project and reject any elements of geometry."
   ]
  },
  {
   "cell_type": "code",
   "execution_count": 2,
   "metadata": {},
   "outputs": [],
   "source": [
    "# Construct points and lines from coefficients\n",
    "point = lambda x, y: (e0 + x*e1 + y*e2).dual()\n",
    "line = lambda a, b, c: a*e1 + b*e2 + c*e0\n",
    "\n",
    "# The formulas for projection and rejection are the same for all elements of geometry in PGA\n",
    "project = lambda a, b: (a | b) / b\n",
    "reject = lambda a, b: (a | b)"
   ]
  },
  {
   "cell_type": "markdown",
   "metadata": {},
   "source": [
    "Construct the points $A$, $B$, and $C$, and make the line $AC$ by joining $A$ and $C$."
   ]
  },
  {
   "cell_type": "code",
   "execution_count": 3,
   "metadata": {},
   "outputs": [],
   "source": [
    "A = point(1, 1)\n",
    "B = point(-1, 1)\n",
    "C = point(-1, -1)\n",
    "AC = A & C"
   ]
  },
  {
   "cell_type": "code",
   "execution_count": 4,
   "metadata": {},
   "outputs": [
    {
     "data": {
      "application/vnd.jupyter.widget-view+json": {
       "model_id": "88dfaa53efec4ecb8dc4bfc6a2b95d9e",
       "version_major": 2,
       "version_minor": 0
      },
      "text/plain": [
       "GraphWidget(cayley=[['1', 'e0', 'e1', 'e2', 'e01', 'e02', 'e12', 'e012'], ['e0', '0', 'e01', 'e02', '0', '0', …"
      ]
     },
     "execution_count": 4,
     "metadata": {},
     "output_type": "execute_result"
    }
   ],
   "source": [
    "alg.graph(\n",
    "    0xD0FFE1, [A,B,C],\n",
    "    0x882288, project(B, AC), \"project B onto AC\",\n",
    "    0x882288, project(AC, B), \"project AC onto B\",\n",
    "    0x008844, reject(AC, B),  \"reject AC from B\",\n",
    "    0x00AA88, AC, \"AC\",\n",
    "    0x224488, A, \"A\", B, \"B\", C, \"C\",\n",
    "    lineWidth=3, grid=1, labels=1\n",
    ")"
   ]
  },
  {
   "cell_type": "code",
   "execution_count": null,
   "metadata": {},
   "outputs": [],
   "source": []
  }
 ],
 "metadata": {
  "kernelspec": {
   "display_name": "Python 3 (ipykernel)",
   "language": "python",
   "name": "python3"
  },
  "language_info": {
   "codemirror_mode": {
    "name": "ipython",
    "version": 3
   },
   "file_extension": ".py",
   "mimetype": "text/x-python",
   "name": "python",
   "nbconvert_exporter": "python",
   "pygments_lexer": "ipython3",
   "version": "3.10.13"
  }
 },
 "nbformat": 4,
 "nbformat_minor": 4
}
