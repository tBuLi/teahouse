{
 "cells": [
  {
   "cell_type": "markdown",
   "metadata": {},
   "source": [
    "# 2DPGA: Distances and Angles\n",
    "\n",
    "This example shows how to measure distances and angles, using 2DPGA.\n",
    "\n",
    "Based on https://enkimute.github.io/ganja.js/examples/coffeeshop.html#pga2d_distances_and_angles."
   ]
  },
  {
   "cell_type": "markdown",
   "metadata": {},
   "source": [
    "First we create 2DPGA, and add its basis blades to the local namespace."
   ]
  },
  {
   "cell_type": "code",
   "execution_count": 1,
   "metadata": {},
   "outputs": [],
   "source": [
    "from kingdon import Algebra\n",
    "import math\n",
    "import time\n",
    "\n",
    "alg = Algebra(2, 0, 1)\n",
    "locals().update(alg.blades)"
   ]
  },
  {
   "cell_type": "markdown",
   "metadata": {},
   "source": [
    "Next, make formulas to construct points and lines from coefficients, and to pcalculate distances and angles."
   ]
  },
  {
   "cell_type": "code",
   "execution_count": 2,
   "metadata": {},
   "outputs": [],
   "source": [
    "# Construct points and lines from coefficients\n",
    "point = lambda x, y: (e0 + x*e1 + y*e2).dual()\n",
    "line = lambda a, b, c: a*e1 + b*e2 + c*e0\n",
    "\n",
    "# Distances between elements in 2D PGA (point to point, point to line),\n",
    "# are always calculated as the length of their join. (assuming normalization)\n",
    "# The .e selects the scalar coefficient.\n",
    "# Use alg.rp instead of x & y such that x and y are allowed to be functions.\n",
    "def dist(x, y): \n",
    "    return alg.rp(x, y).normsq().e\n",
    "\n",
    "# Angles between lines in 2D PGA are calculated using the inner product.\n",
    "# Again normalized elements are assumed.\n",
    "def angle(x, y):\n",
    "    return math.acos(alg.ip(x, y).e)"
   ]
  },
  {
   "cell_type": "markdown",
   "metadata": {},
   "source": [
    "Construct the points $A$, $B$, and $C$. The point $A$ is a function so it can be animated."
   ]
  },
  {
   "cell_type": "code",
   "execution_count": 3,
   "metadata": {},
   "outputs": [],
   "source": [
    "A = lambda: point(-1, -0.5*math.sin(0.5 * time.perf_counter()))\n",
    "B = point(-1, 1)\n",
    "C = point(1, 1)"
   ]
  },
  {
   "cell_type": "markdown",
   "metadata": {},
   "source": [
    "Create the three lines connecting these points and normalize them. Be sure to call $A$ first since it is a function."
   ]
  },
  {
   "cell_type": "code",
   "execution_count": 4,
   "metadata": {},
   "outputs": [],
   "source": [
    "AB = lambda: (B & A).normalized() \n",
    "BC = lambda: (C & B).normalized()\n",
    "CA = lambda: (C & A).normalized()"
   ]
  },
  {
   "cell_type": "markdown",
   "metadata": {},
   "source": [
    "We then create functions that calculate the distances between the points and return them as labels (strings):"
   ]
  },
  {
   "cell_type": "code",
   "execution_count": 5,
   "metadata": {},
   "outputs": [],
   "source": [
    "AtoB  = lambda: f\"{dist(A, B):.3f}\"\n",
    "BtoC  = lambda: f\"{dist(B, C):.3f}\"\n",
    "CtoA  = lambda: f\"{dist(C, A):.3f}\"\n",
    "BtoCA = lambda: f\"{dist(B, CA):.3f}\""
   ]
  },
  {
   "cell_type": "markdown",
   "metadata": {},
   "source": [
    "Angles between lines as strings (labels for the points)"
   ]
  },
  {
   "cell_type": "code",
   "execution_count": 6,
   "metadata": {},
   "outputs": [],
   "source": [
    "CAtoAB = lambda: f\"{angle(CA, AB) * 180 / math.pi:.3f}\"\n",
    "ABtoBC = lambda: f\"{angle(BC, AB) * 180 / math.pi:.3f}\"\n",
    "CAtoBC = lambda: f\"{angle(CA, BC) * 180 / math.pi:.3f}\""
   ]
  },
  {
   "cell_type": "code",
   "execution_count": 7,
   "metadata": {},
   "outputs": [
    {
     "data": {
      "application/vnd.jupyter.widget-view+json": {
       "model_id": "144240d40ca046adaabdd3892a82636a",
       "version_major": 2,
       "version_minor": 0
      },
      "text/plain": [
       "GraphWidget(cayley=[['1', 'e0', 'e1', 'e2', 'e01', 'e02', 'e12', 'e012'], ['e0', '0', 'e01', 'e02', '0', '0', …"
      ]
     },
     "execution_count": 7,
     "metadata": {},
     "output_type": "execute_result"
    }
   ],
   "source": [
    "alg.graph(\n",
    "    \"Distances and Angles\",\"Drag the points\",       # render title\n",
    "    0xD0FFE1, [A,B,C],                              # render the triangle\n",
    "    0x00AA88, AB, AtoB, BC, BtoC, CA, CtoA,         # render edges and lengths.\n",
    "    0x882288, [B, lambda: B @ CA], BtoCA,         # render projection and dist\n",
    "    0x224488, A, CAtoAB, B, ABtoBC, C, CAtoBC,      # render verts and angles\n",
    "    lineWidth=3, grid=True, labels=True, animate=True,\n",
    ")"
   ]
  },
  {
   "cell_type": "code",
   "execution_count": null,
   "metadata": {},
   "outputs": [],
   "source": []
  }
 ],
 "metadata": {
  "kernelspec": {
   "display_name": "Python 3 (ipykernel)",
   "language": "python",
   "name": "python3"
  },
  "language_info": {
   "codemirror_mode": {
    "name": "ipython",
    "version": 3
   },
   "file_extension": ".py",
   "mimetype": "text/x-python",
   "name": "python",
   "nbconvert_exporter": "python",
   "pygments_lexer": "ipython3",
   "version": "3.10.13"
  }
 },
 "nbformat": 4,
 "nbformat_minor": 4
}
