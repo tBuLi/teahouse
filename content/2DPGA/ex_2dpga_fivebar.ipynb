{
 "cells": [
  {
   "cell_type": "markdown",
   "id": "f19971fa-8a05-42c4-9384-edeb9d1fe0ad",
   "metadata": {},
   "source": [
    "# Fivebar Mechanism"
   ]
  },
  {
   "cell_type": "code",
   "execution_count": 1,
   "id": "3af5f796-e720-44ef-bd94-85b088fa88df",
   "metadata": {},
   "outputs": [],
   "source": [
    "import numpy as np\n",
    "from kingdon import Algebra\n",
    "import ipywidgets"
   ]
  },
  {
   "cell_type": "code",
   "execution_count": 2,
   "id": "18affc9b-f89a-4550-b56f-74ee4754ba2e",
   "metadata": {},
   "outputs": [],
   "source": [
    "alg = Algebra(2, 0, 1)"
   ]
  },
  {
   "cell_type": "code",
   "execution_count": 3,
   "id": "ca256030-9b72-444a-b6ab-744aff0d09b2",
   "metadata": {},
   "outputs": [],
   "source": [
    "def point(x, y): return alg.vector(e0=1, e1=x, e2=y).dual()\n",
    "def plane(a, b, c): return alg.vector(e1=a, e2=b, e0=c)\n",
    "\n",
    "def exp_np(x):\n",
    "    xsq = (x|x).grade(0)\n",
    "    if not xsq:\n",
    "        return 1 + x\n",
    "    lsqrt = (-xsq.e)**0.5\n",
    "    return x * np.sinc(lsqrt / np.pi) + np.cos(lsqrt)\n",
    "\n",
    "def translator(line, dist):\n",
    "    e0 = line.algebra.blades['e0']\n",
    "    return 1 + 0.5 * dist * (e0 * line.normalized() * e0.dual())\n",
    "\n",
    "def elbow(point1, point2, r1, r2, alternative=False):\n",
    "    \"\"\"\n",
    "    Given two points and two radii, give the intersection point of the\n",
    "    circles centered on those points with those radii.\n",
    "    \"\"\"\n",
    "    u = point1 & point2\n",
    "    v = u | point1\n",
    "    usq_inv = 1 / (u|u).e\n",
    "    s = 0.5 * (usq_inv * (r1**2 - r2**2) + 1)\n",
    "    t = ((usq_inv * r1**2) - s**2)**0.5\n",
    "    point2perp = (1 - point1) / 2**0.5 >> point2\n",
    "    if alternative:\n",
    "        return point1 + (point2-point1) * s - (point2perp-point1) *  t\n",
    "    return point1 + (point2-point1) * s + (point2perp-point1) * t\n",
    "\n",
    "def fivebar(t, A, B, ac, bd, cd, de, theta_D, pol_A, full_output=False, exp=exp_np):\n",
    "    # Create C by translating A up, and then rotating it by the desired angle.\n",
    "    tr_ac = translator(A & B, ac)\n",
    "    # tr_ac = exp(0.5 * ac * alg.blades['e01'])\n",
    "    if isinstance(pol_A, (tuple, list)):\n",
    "        theta_At = sum(t**i * coeff for i, coeff in enumerate(reversed(pol_A)))\n",
    "    else:\n",
    "        theta_At = pol_A\n",
    "    M_A = exp(- 0.5 * A * theta_At)\n",
    "    C = (M_A * tr_ac) >> A\n",
    "    # Create D as the elbow of C and B.\n",
    "    D = elbow(B, C, bd, cd)\n",
    "    # Create E by translating D up, and then rotating it by the desired angle.\n",
    "    tr_de = translator(C & D, de)\n",
    "    # tr_de = exp(0.5 * de * alg.blades['e01'])\n",
    "    M_D = exp(- 0.5 * theta_D * D)\n",
    "    E = (M_D * tr_de) >> D\n",
    "    if full_output:\n",
    "        return C, D, E\n",
    "    return E\n"
   ]
  },
  {
   "cell_type": "code",
   "execution_count": 4,
   "id": "27ea98d6-a2e7-4265-b2e7-41f10d9f32e0",
   "metadata": {},
   "outputs": [
    {
     "data": {
      "application/vnd.jupyter.widget-view+json": {
       "model_id": "0eb110299a1644ac9f0e8e793470ac23",
       "version_major": 2,
       "version_minor": 0
      },
      "text/plain": [
       "VBox(children=(FloatSlider(value=4.329777002067039, max=10.0, min=-10.0, step=0.01), FloatSlider(value=-6.4183…"
      ]
     },
     "execution_count": 4,
     "metadata": {},
     "output_type": "execute_result"
    }
   ],
   "source": [
    "from timeit import default_timer\n",
    "from functools import partial\n",
    "\n",
    "DistSlider = partial(ipywidgets.FloatSlider, min=-10, max=10, step=0.01, readout=True, readout_format='.2f')\n",
    "\n",
    "ac_widget = DistSlider(value=4.329777002067039)\n",
    "bd_widget = DistSlider(value=-6.418389614876762)\n",
    "\n",
    "usecase = [point(1.5, 3.0), point(5.0, 5.0), point(8.5, 2.0)]\n",
    "best = [\n",
    "    7.522375791897677,\n",
    "    -1.2297104295438015,\n",
    "    1.4883454465783046,\n",
    "    9.65978858247454,\n",
    "    4.329777002067039,\n",
    "    -6.418389614876762,\n",
    "    12.91788027878568,\n",
    "    10.223852704675853,\n",
    "    -3.393426372984221,\n",
    "    0.9098149166712446,\n",
    "    -3.763919738437536,\n",
    "    -5.266926540202572\n",
    "]\n",
    "\n",
    "Ax, Ay, Bx, By, ac, bd, cd, de, theta_D, tA1, tA2, tA3 = best\n",
    "# Anchor points\n",
    "A = point(Ax, Ay);\n",
    "B = point(Bx, By);\n",
    "endpoints = []\n",
    "\n",
    "def graph_func():\n",
    "    t = default_timer() / 1000\n",
    "    ac = ac_widget.value\n",
    "    bd = bd_widget.value\n",
    "    C, D, E = fivebar(t, A, B, ac, bd, cd, de, theta_D, [1, 0, 0], full_output=True)\n",
    "    endpoints.append(E)\n",
    "    if len(endpoints) > 50:\n",
    "        endpoints.pop(0)\n",
    "        \n",
    "    return [\n",
    "        # usecase\n",
    "        *usecase,\n",
    "        # Anchor points\n",
    "        0xff0000, A, 'A', B, 'B', \n",
    "        0x000000, [A, C], [B, D], [C, D], [D, E],\n",
    "        # Moving points\n",
    "        0x00ff00,\n",
    "        C, 'C', D, 'D',\n",
    "        # end point and previous endpoints\n",
    "        0xff00ff, *endpoints,\n",
    "        0x0000ff,\n",
    "        E, 'E',\n",
    "    ]\n",
    "    \n",
    "graph = alg.graph(\n",
    "    graph_func, \n",
    "    scale=0.1, animate=True,\n",
    ")\n",
    "# graph\n",
    "ipywidgets.VBox([ac_widget, bd_widget, graph])"
   ]
  },
  {
   "cell_type": "code",
   "execution_count": null,
   "id": "eb6d085e-756b-4fab-aa19-06716facaef4",
   "metadata": {},
   "outputs": [],
   "source": []
  }
 ],
 "metadata": {
  "kernelspec": {
   "display_name": "Python 3 (ipykernel)",
   "language": "python",
   "name": "python3"
  },
  "language_info": {
   "codemirror_mode": {
    "name": "ipython",
    "version": 3
   },
   "file_extension": ".py",
   "mimetype": "text/x-python",
   "name": "python",
   "nbconvert_exporter": "python",
   "pygments_lexer": "ipython3",
   "version": "3.10.13"
  }
 },
 "nbformat": 4,
 "nbformat_minor": 5
}
