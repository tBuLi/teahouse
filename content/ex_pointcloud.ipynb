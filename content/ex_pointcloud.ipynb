{
 "cells": [
  {
   "cell_type": "markdown",
   "id": "59eb2809",
   "metadata": {},
   "source": [
    "# Poincloud rotor estimation\n",
    "\n",
    "Consider the following challenge. We are presented with an input pointcloud $p_i$, and an output pointcloud $q_i = R[p_i] + \\eta_i$, where $R$ is an unknown tranformation, and $\\eta_i$ is Gaussian noise. The challenge is to reconstruct the transformation $R$.\n",
    "\n",
    "In order to do this, we construct a symbolic tranformation $R$, whose entries are `symfit.Parameter` objects. We can then use `symfit` to find the rotor $R$."
   ]
  },
  {
   "cell_type": "code",
   "execution_count": 1,
   "id": "5c08628c",
   "metadata": {},
   "outputs": [],
   "source": [
    "from kingdon import Algebra\n",
    "from symfit import Fit, Model, CallableModel, Variable, Parameter, Eq, Mul\n",
    "from symfit.core.minimizers import *\n",
    "import numpy as np"
   ]
  },
  {
   "cell_type": "markdown",
   "id": "73865566",
   "metadata": {},
   "source": [
    "We set up the number of points `n_points` in the pointcloud, the number of (Euclidean) dimensions of the modeling space `d`, and the standard deviation `sig` of the Gaussian distribution."
   ]
  },
  {
   "cell_type": "code",
   "execution_count": 2,
   "id": "07bf4671",
   "metadata": {},
   "outputs": [],
   "source": [
    "n_points = 10\n",
    "d = 2\n",
    "sig = 0.02"
   ]
  },
  {
   "cell_type": "code",
   "execution_count": 3,
   "id": "091f5c8d",
   "metadata": {},
   "outputs": [],
   "source": [
    "point_vals = np.zeros((d+1, n_points))\n",
    "noise_vals = np.zeros((d+1, n_points))\n",
    "point_vals[0, :] = np.ones(n_points)\n",
    "point_vals[1:, :] = np.random.random((d, n_points))\n",
    "noise_vals[1:, :] = np.random.normal(0.0, sig, (d, n_points))"
   ]
  },
  {
   "cell_type": "code",
   "execution_count": 4,
   "id": "d742e36d",
   "metadata": {},
   "outputs": [],
   "source": [
    "alg = Algebra(d, 0, 1)\n",
    "locals().update(alg.blades)"
   ]
  },
  {
   "cell_type": "markdown",
   "id": "4cec591d",
   "metadata": {},
   "source": [
    "Create the points and noise as pseudovector of grade `d`."
   ]
  },
  {
   "cell_type": "code",
   "execution_count": 5,
   "id": "1dea6b61",
   "metadata": {},
   "outputs": [
    {
     "data": {
      "text/plain": [
       "[0.6193865  0.05568265 0.10402929 0.62240814 0.63319893 0.57874796\n",
       " 0.47162778 0.78012503 0.70366406 0.10142499] 𝐞₀₁ + [-0.80124716 -0.13055387 -0.27026671 -0.44351767 -0.98847871 -0.94480035\n",
       " -0.07393811 -0.63619458 -0.97730121 -0.76623394] 𝐞₀₂ + [1. 1. 1. 1. 1. 1. 1. 1. 1. 1.] 𝐞₁₂"
      ]
     },
     "execution_count": 5,
     "metadata": {},
     "output_type": "execute_result"
    }
   ],
   "source": [
    "noise = alg.vector(noise_vals).dual()\n",
    "p = alg.vector(point_vals).dual()\n",
    "p"
   ]
  },
  {
   "cell_type": "markdown",
   "id": "c75f5df2",
   "metadata": {},
   "source": [
    "As the input rotor $R$, we use a translation by $0.5$ in the $\\mathbb{e}_{20}$ direction, followed by a rotation around $\\mathbb{e}_{12}$."
   ]
  },
  {
   "cell_type": "code",
   "execution_count": 6,
   "id": "5e975b48",
   "metadata": {},
   "outputs": [
    {
     "name": "stdout",
     "output_type": "stream",
     "text": [
      "T=1 + -0.5 𝐞₀₂\n",
      "S=0.5 + 0.866 𝐞₁₂\n",
      "R=0.5 + -0.433 𝐞₀₁ + -0.25 𝐞₀₂ + 0.866 𝐞₁₂\n"
     ]
    }
   ],
   "source": [
    "t = np.pi/3\n",
    "T = alg.multivector(e=1, e02=-0.5)\n",
    "S = alg.multivector(e=np.cos(t), e12=np.sin(t))\n",
    "R = S*T\n",
    "print(f'{T=!s}')\n",
    "print(f'{S=!s}')\n",
    "print(f'{R=!s}')"
   ]
  },
  {
   "cell_type": "markdown",
   "id": "88942d1a",
   "metadata": {},
   "source": [
    "We can now create the transformed pointcloud $q$, and visualize both both $p$ and $q$."
   ]
  },
  {
   "cell_type": "code",
   "execution_count": 7,
   "id": "7bfb9aa6",
   "metadata": {},
   "outputs": [],
   "source": [
    "q = R.sw(p).grade(d) + noise"
   ]
  },
  {
   "cell_type": "code",
   "execution_count": 8,
   "id": "d1f304ab",
   "metadata": {},
   "outputs": [
    {
     "data": {
      "application/vnd.jupyter.widget-view+json": {
       "model_id": "28ffb31d76bc4f3ca0e8f33ff7d029a1",
       "version_major": 2,
       "version_minor": 0
      },
      "text/plain": [
       "GraphWidget(cayley=[['1', 'e0', 'e1', 'e2', 'e01', 'e02', 'e12', 'e012'], ['e0', '0', 'e01', 'e02', '0', '0', …"
      ]
     },
     "execution_count": 8,
     "metadata": {},
     "output_type": "execute_result"
    }
   ],
   "source": [
    "alg.graph(\n",
    "    0xff0000, p, 'p', \n",
    "    0x0000ff, q, 'q', \n",
    "    0x000000, R.grade(2), 'axis',\n",
    "    scale=1.0,\n",
    ")"
   ]
  },
  {
   "cell_type": "markdown",
   "id": "d1ad552b",
   "metadata": {},
   "source": [
    "We will now setup a symfit model to describe this transformation, where the rotor $R$ consists of `Parameter`'s, and the pointclouds $p$ and $q$ are symfit `Variable`'s."
   ]
  },
  {
   "cell_type": "code",
   "execution_count": 9,
   "id": "aefb3cbd",
   "metadata": {},
   "outputs": [
    {
     "name": "stdout",
     "output_type": "stream",
     "text": [
      "R + R01 𝐞₀₁ + R02 𝐞₀₂ + R12 𝐞₁₂\n",
      "p01 𝐞₀₁ + p02 𝐞₀₂ + p12 𝐞₁₂\n",
      "q01 𝐞₀₁ + q02 𝐞₀₂ + q12 𝐞₁₂\n"
     ]
    }
   ],
   "source": [
    "R_par = alg.evenmv(name='R', symbolcls=Parameter)\n",
    "p_var = alg.multivector(name='p', symbolcls=Variable, grades=(d,))\n",
    "q_var = alg.multivector(name='q', symbolcls=Variable, grades=(d,))\n",
    "print(R_par)\n",
    "print(p_var)\n",
    "print(q_var)"
   ]
  },
  {
   "cell_type": "code",
   "execution_count": 10,
   "id": "7e72e068",
   "metadata": {},
   "outputs": [
    {
     "data": {
      "text/latex": [
       "\\begin{align}q_{01}(p_{01}, p_{02}, p_{12}; R, R_{01}, R_{02}, R_{12}) & = - R R_{02} p_{12} + R \\left(R p_{01} - R_{02} p_{12} + R_{12} p_{02}\\right) + R_{01} R_{12} p_{12} + R_{12} \\left(R p_{02} + R_{01} p_{12} - R_{12} p_{01}\\right)\\\\q_{02}(p_{01}, p_{02}, p_{12}; R, R_{01}, R_{02}, R_{12}) & = R R_{01} p_{12} + R \\left(R p_{02} + R_{01} p_{12} - R_{12} p_{01}\\right) + R_{02} R_{12} p_{12} - R_{12} \\left(R p_{01} - R_{02} p_{12} + R_{12} p_{02}\\right)\\\\q_{12}(p_{12}; R, R_{12}) & = R^{2} p_{12} + R_{12}^{2} p_{12}\\end{align}"
      ],
      "text/plain": [
       "<symfit.core.models.Model at 0x28b62d8cc70>"
      ]
     },
     "execution_count": 10,
     "metadata": {},
     "output_type": "execute_result"
    }
   ],
   "source": [
    "p_var_trans = (R_par >> p_var).filter()\n",
    "# model = Model({q_var[k]: expr for k, expr in p_var_trans.items()})\n",
    "model = Model({var: expr for var, expr in zip(q_var.values(), p_var_trans.values())})\n",
    "model"
   ]
  },
  {
   "cell_type": "markdown",
   "id": "30378c77",
   "metadata": {},
   "source": [
    "Prepare the data for `symfit`."
   ]
  },
  {
   "cell_type": "code",
   "execution_count": 11,
   "id": "c8d31d48",
   "metadata": {},
   "outputs": [],
   "source": [
    "datadict = {var.name: data for var, data in zip(p_var.values(), p.values())}\n",
    "datadict.update({var.name: data for var, data in zip(q_var.values(), q.values())})"
   ]
  },
  {
   "cell_type": "markdown",
   "id": "668c9d93",
   "metadata": {},
   "source": [
    "Initiate a `symfit.Fit` object with the model and data. We additionally supply the demand $R \\widetilde{R} = 1$, since rotors should be normalized (i.e., othonormal transformations)."
   ]
  },
  {
   "cell_type": "code",
   "execution_count": 12,
   "id": "97427a69",
   "metadata": {},
   "outputs": [],
   "source": [
    "constraints = [\n",
    "    Eq(R_par.normsq().e, 1)\n",
    "]\n",
    "fit = Fit(model, **datadict, constraints=constraints)"
   ]
  },
  {
   "cell_type": "code",
   "execution_count": 13,
   "id": "e9b9e56e",
   "metadata": {},
   "outputs": [
    {
     "name": "stdout",
     "output_type": "stream",
     "text": [
      "\n",
      "Parameter Value        Standard Deviation\n",
      "R         5.026128e-01 9.797416e-03\n",
      "R01       -4.261785e-01 6.756469e-03\n",
      "R02       -2.477012e-01 1.336769e-02\n",
      "R12       8.645116e-01 6.683008e-03\n",
      "Status message         Optimization terminated successfully\n",
      "Number of iterations   18\n",
      "Objective              <symfit.core.objectives.LeastSquares object at 0x0000028B62F303D0>\n",
      "Minimizer              <symfit.core.minimizers.SLSQP object at 0x0000028B63160E20>\n",
      "\n",
      "Goodness of fit qualifiers:\n",
      "chi_squared            0.005224097869669531\n",
      "objective_value        0.0026120489348347656\n",
      "r_squared              0.9970428183477802\n",
      "\n",
      "Constraints:\n",
      "--------------------\n",
      "Question: R**2 + R12**2 - 1 == 0?\n",
      "Answer:   2.525091247207456e-12\n",
      "\n",
      "\n"
     ]
    }
   ],
   "source": [
    "results = fit.execute()\n",
    "print(results)"
   ]
  },
  {
   "cell_type": "markdown",
   "id": "b029b3e0",
   "metadata": {},
   "source": [
    "`symfit` has used SLSQP because of the constraint, and we see that we have high accuracy on this constraint. Let us print the reconstructed rotor and it's norm. Furthermore, we can now apply $\\widetilde{R}$ to $q$ to transform it back to the location of $p$ so we can visually inspect the quality of the reconstruction."
   ]
  },
  {
   "cell_type": "code",
   "execution_count": 14,
   "id": "2f072bec",
   "metadata": {},
   "outputs": [
    {
     "name": "stdout",
     "output_type": "stream",
     "text": [
      "0.503 + -0.426 𝐞₀₁ + -0.248 𝐞₀₂ + 0.865 𝐞₁₂\n",
      "1.0\n"
     ]
    }
   ],
   "source": [
    "R_re = R_par(**results.params)\n",
    "print(R_re)\n",
    "print(R_re.normsq())"
   ]
  },
  {
   "cell_type": "code",
   "execution_count": 15,
   "id": "8d0e25ed",
   "metadata": {},
   "outputs": [],
   "source": [
    "p_reconstructed = (~R_re) >> q"
   ]
  },
  {
   "cell_type": "code",
   "execution_count": 16,
   "id": "d8059b46",
   "metadata": {},
   "outputs": [
    {
     "data": {
      "application/vnd.jupyter.widget-view+json": {
       "model_id": "f1a5a0f570e943fd94bd4ec5f6cb5c63",
       "version_major": 2,
       "version_minor": 0
      },
      "text/plain": [
       "GraphWidget(cayley=[['1', 'e0', 'e1', 'e2', 'e01', 'e02', 'e12', 'e012'], ['e0', '0', 'e01', 'e02', '0', '0', …"
      ]
     },
     "execution_count": 16,
     "metadata": {},
     "output_type": "execute_result"
    }
   ],
   "source": [
    "from timeit import default_timer\n",
    "\n",
    "def animate_q():\n",
    "    \"\"\" Make cloud q rotate towards p. \"\"\"\n",
    "    s0 = R_re.grade(2).norm().e\n",
    "    t0 = np.arctan2(s0, R_re.e)\n",
    "    logR = R_re.grade(2) / s0\n",
    "    t = t0 * (np.sin(default_timer() / 2) + 1 ) / 2 # [0, t0]\n",
    "    \n",
    "    R = np.cos(t) + logR * np.sin(t)\n",
    "    return ~R >> q\n",
    "\n",
    "alg.graph(\n",
    "    0xff0000, p,\n",
    "    0x0000ff, q, 'q', \n",
    "    0x880088, p_reconstructed, 'p reconstructed',\n",
    "    0x000000, R_re.grade(2), 'reconst. axis',\n",
    "    animate_q, 'q',\n",
    "    animate=True,\n",
    "    scale=1.0,\n",
    ")"
   ]
  },
  {
   "cell_type": "markdown",
   "id": "910a5aea",
   "metadata": {},
   "source": [
    "We see that we have excellent agreement between the original and reconstructed pointclouds."
   ]
  },
  {
   "cell_type": "code",
   "execution_count": null,
   "id": "df7ba23a",
   "metadata": {},
   "outputs": [],
   "source": []
  },
  {
   "cell_type": "code",
   "execution_count": null,
   "id": "8cfb042f",
   "metadata": {},
   "outputs": [],
   "source": []
  }
 ],
 "metadata": {
  "kernelspec": {
   "display_name": "Python 3 (ipykernel)",
   "language": "python",
   "name": "python3"
  },
  "language_info": {
   "codemirror_mode": {
    "name": "ipython",
    "version": 3
   },
   "file_extension": ".py",
   "mimetype": "text/x-python",
   "name": "python",
   "nbconvert_exporter": "python",
   "pygments_lexer": "ipython3",
   "version": "3.10.13"
  }
 },
 "nbformat": 4,
 "nbformat_minor": 5
}
