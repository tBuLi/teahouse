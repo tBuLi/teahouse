{
 "cells": [
  {
   "cell_type": "markdown",
   "id": "59eb2809",
   "metadata": {},
   "source": [
    "# Pointcloud rotor estimation\n",
    "\n",
    "Consider the following challenge. We are presented with an input pointcloud $p_i$, and an output pointcloud $q_i = R[p_i] + \\eta_i$, where $R$ is an unknown tranformation, and $\\eta_i$ is Gaussian noise. The challenge is to reconstruct the transformation $R$.\n",
    "\n",
    "In order to do this, we construct a symbolic tranformation $R$, whose entries are `symfit.Parameter` objects. We can then use `symfit` to find the rotor $R$."
   ]
  },
  {
   "cell_type": "code",
   "execution_count": 1,
   "id": "2b1eec71-a289-47b3-8a4a-9443260463b7",
   "metadata": {},
   "outputs": [
    {
     "name": "stdout",
     "output_type": "stream",
     "text": [
      "Note: you may need to restart the kernel to use updated packages.\n"
     ]
    }
   ],
   "source": [
    "%pip install -q kingdon symfit anywidget"
   ]
  },
  {
   "cell_type": "code",
   "execution_count": 2,
   "id": "5c08628c",
   "metadata": {},
   "outputs": [],
   "source": [
    "from kingdon import Algebra\n",
    "from symfit import Fit, Model, CallableModel, Variable, Parameter, Eq, Mul\n",
    "from symfit.core.minimizers import *\n",
    "import numpy as np"
   ]
  },
  {
   "cell_type": "markdown",
   "id": "73865566",
   "metadata": {},
   "source": [
    "We set up the number of points `n_points` in the pointcloud, the number of (Euclidean) dimensions of the modeling space `d`, and the standard deviation `sig` of the Gaussian distribution."
   ]
  },
  {
   "cell_type": "code",
   "execution_count": 3,
   "id": "07bf4671",
   "metadata": {},
   "outputs": [],
   "source": [
    "n_points = 10\n",
    "d = 2\n",
    "sig = 0.02"
   ]
  },
  {
   "cell_type": "code",
   "execution_count": 4,
   "id": "091f5c8d",
   "metadata": {},
   "outputs": [],
   "source": [
    "point_vals = np.zeros((d+1, n_points))\n",
    "noise_vals = np.zeros((d+1, n_points))\n",
    "point_vals[0, :] = np.ones(n_points)\n",
    "point_vals[1:, :] = np.random.random((d, n_points))\n",
    "noise_vals[1:, :] = np.random.normal(0.0, sig, (d, n_points))"
   ]
  },
  {
   "cell_type": "code",
   "execution_count": 5,
   "id": "d742e36d",
   "metadata": {},
   "outputs": [],
   "source": [
    "alg = Algebra(d, 0, 1)\n",
    "locals().update(alg.blades)"
   ]
  },
  {
   "cell_type": "markdown",
   "id": "4cec591d",
   "metadata": {},
   "source": [
    "Create the points and noise as pseudovector of grade `d`."
   ]
  },
  {
   "cell_type": "code",
   "execution_count": 6,
   "id": "1dea6b61",
   "metadata": {},
   "outputs": [
    {
     "data": {
      "text/plain": [
       "[0.69331468 0.39322116 0.33057664 0.2689791  0.79561022 0.14113163\n",
       " 0.07236445 0.94028488 0.5623913  0.20473193] 𝐞₀₁ + [-0.4461381  -0.6654981  -0.79724814 -0.83350406 -0.80097615 -0.70791822\n",
       " -0.82626575 -0.88341839 -0.81623028 -0.06027692] 𝐞₀₂ + [1. 1. 1. 1. 1. 1. 1. 1. 1. 1.] 𝐞₁₂"
      ]
     },
     "execution_count": 6,
     "metadata": {},
     "output_type": "execute_result"
    }
   ],
   "source": [
    "noise = alg.vector(noise_vals).dual()\n",
    "p = alg.vector(point_vals).dual()\n",
    "p"
   ]
  },
  {
   "cell_type": "markdown",
   "id": "c75f5df2",
   "metadata": {},
   "source": [
    "As the input rotor $R$, we use a translation by $0.5$ in the $\\mathbb{e}_{20}$ direction, followed by a rotation around $\\mathbb{e}_{12}$."
   ]
  },
  {
   "cell_type": "code",
   "execution_count": 7,
   "id": "5e975b48",
   "metadata": {},
   "outputs": [
    {
     "name": "stdout",
     "output_type": "stream",
     "text": [
      "T=1 + -0.5 𝐞₀₂\n",
      "S=0.5 + 0.866 𝐞₁₂\n",
      "R=0.5 + -0.433 𝐞₀₁ + -0.25 𝐞₀₂ + 0.866 𝐞₁₂\n"
     ]
    }
   ],
   "source": [
    "t = np.pi/3\n",
    "T = alg.multivector(e=1, e02=-0.5)\n",
    "S = alg.multivector(e=np.cos(t), e12=np.sin(t))\n",
    "R = S*T\n",
    "print(f'{T=!s}')\n",
    "print(f'{S=!s}')\n",
    "print(f'{R=!s}')"
   ]
  },
  {
   "cell_type": "markdown",
   "id": "88942d1a",
   "metadata": {},
   "source": [
    "We can now create the transformed pointcloud $q$, and visualize both both $p$ and $q$."
   ]
  },
  {
   "cell_type": "code",
   "execution_count": 8,
   "id": "7bfb9aa6",
   "metadata": {},
   "outputs": [],
   "source": [
    "q = R.sw(p).grade(d) + noise"
   ]
  },
  {
   "cell_type": "code",
   "execution_count": 9,
   "id": "d1f304ab",
   "metadata": {},
   "outputs": [
    {
     "data": {
      "application/vnd.jupyter.widget-view+json": {
       "model_id": "4956efd0a4a249038718ae46b2f9bbaa",
       "version_major": 2,
       "version_minor": 0
      },
      "text/plain": [
       "GraphWidget(cayley=[['1', 'e0', 'e1', 'e2', 'e01', 'e02', 'e12', 'e012'], ['e0', '0', 'e01', 'e02', '0', '0', …"
      ]
     },
     "execution_count": 9,
     "metadata": {},
     "output_type": "execute_result"
    }
   ],
   "source": [
    "alg.graph(\n",
    "    0xff0000, p, 'p', \n",
    "    0x0000ff, q, 'q', \n",
    "    0x000000, R.grade(2), 'axis',\n",
    "    scale=1.0,\n",
    ")"
   ]
  },
  {
   "cell_type": "markdown",
   "id": "d1ad552b",
   "metadata": {},
   "source": [
    "We will now setup a symfit model to describe this transformation, where the rotor $R$ consists of `Parameter`'s, and the pointclouds $p$ and $q$ are symfit `Variable`'s."
   ]
  },
  {
   "cell_type": "code",
   "execution_count": 10,
   "id": "aefb3cbd",
   "metadata": {},
   "outputs": [
    {
     "name": "stdout",
     "output_type": "stream",
     "text": [
      "R + R01 𝐞₀₁ + R02 𝐞₀₂ + R12 𝐞₁₂\n",
      "p01 𝐞₀₁ + p02 𝐞₀₂ + p12 𝐞₁₂\n",
      "q01 𝐞₀₁ + q02 𝐞₀₂ + q12 𝐞₁₂\n"
     ]
    }
   ],
   "source": [
    "R_par = alg.evenmv(name='R', symbolcls=Parameter)\n",
    "p_var = alg.multivector(name='p', symbolcls=Variable, grades=(d,))\n",
    "q_var = alg.multivector(name='q', symbolcls=Variable, grades=(d,))\n",
    "print(R_par)\n",
    "print(p_var)\n",
    "print(q_var)"
   ]
  },
  {
   "cell_type": "code",
   "execution_count": 11,
   "id": "7e72e068",
   "metadata": {},
   "outputs": [
    {
     "data": {
      "text/latex": [
       "\\begin{align}q_{01}(p_{01}, p_{02}, p_{12}; R, R_{01}, R_{02}, R_{12}) & = - R R_{02} p_{12} + R \\left(R p_{01} - R_{02} p_{12} + R_{12} p_{02}\\right) + R_{01} R_{12} p_{12} + R_{12} \\left(R p_{02} + R_{01} p_{12} - R_{12} p_{01}\\right)\\\\q_{02}(p_{01}, p_{02}, p_{12}; R, R_{01}, R_{02}, R_{12}) & = R R_{01} p_{12} + R \\left(R p_{02} + R_{01} p_{12} - R_{12} p_{01}\\right) + R_{02} R_{12} p_{12} - R_{12} \\left(R p_{01} - R_{02} p_{12} + R_{12} p_{02}\\right)\\\\q_{12}(p_{12}; R, R_{12}) & = R^{2} p_{12} + R_{12}^{2} p_{12}\\end{align}"
      ],
      "text/plain": [
       "<symfit.core.models.Model at 0x1a07fd632b0>"
      ]
     },
     "execution_count": 11,
     "metadata": {},
     "output_type": "execute_result"
    }
   ],
   "source": [
    "p_var_trans = (R_par >> p_var).filter()\n",
    "# model = Model({q_var[k]: expr for k, expr in p_var_trans.items()})\n",
    "model = Model({var: expr for var, expr in zip(q_var.values(), p_var_trans.values())})\n",
    "model"
   ]
  },
  {
   "cell_type": "markdown",
   "id": "30378c77",
   "metadata": {},
   "source": [
    "Prepare the data for `symfit`."
   ]
  },
  {
   "cell_type": "code",
   "execution_count": 12,
   "id": "c8d31d48",
   "metadata": {},
   "outputs": [],
   "source": [
    "datadict = {var.name: data for var, data in zip(p_var.values(), p.values())}\n",
    "datadict.update({var.name: data for var, data in zip(q_var.values(), q.values())})"
   ]
  },
  {
   "cell_type": "markdown",
   "id": "668c9d93",
   "metadata": {},
   "source": [
    "Initiate a `symfit.Fit` object with the model and data. We additionally supply the demand $R \\widetilde{R} = 1$, since rotors should be normalized (i.e., othonormal transformations)."
   ]
  },
  {
   "cell_type": "code",
   "execution_count": 13,
   "id": "97427a69",
   "metadata": {},
   "outputs": [],
   "source": [
    "constraints = [\n",
    "    Eq(R_par.normsq().e, 1)\n",
    "]\n",
    "fit = Fit(model, **datadict, constraints=constraints)"
   ]
  },
  {
   "cell_type": "code",
   "execution_count": 14,
   "id": "e9b9e56e",
   "metadata": {},
   "outputs": [
    {
     "name": "stdout",
     "output_type": "stream",
     "text": [
      "\n",
      "Parameter Value        Standard Deviation\n",
      "R         5.034720e-01 1.691675e-02\n",
      "R01       -4.331113e-01 1.072609e-02\n",
      "R02       -2.500911e-01 2.333642e-02\n",
      "R12       8.640116e-01 1.124685e-02\n",
      "Status message         Optimization terminated successfully\n",
      "Number of iterations   19\n",
      "Objective              <symfit.core.objectives.LeastSquares object at 0x000001A07FEAF4F0>\n",
      "Minimizer              <symfit.core.minimizers.SLSQP object at 0x000001A078B7D150>\n",
      "\n",
      "Goodness of fit qualifiers:\n",
      "chi_squared            0.012079077521410877\n",
      "objective_value        0.006039538760705438\n",
      "r_squared              0.9915089739480435\n",
      "\n",
      "Constraints:\n",
      "--------------------\n",
      "Question: R**2 + R12**2 - 1 == 0?\n",
      "Answer:   4.133138276074533e-12\n",
      "\n",
      "\n"
     ]
    }
   ],
   "source": [
    "results = fit.execute()\n",
    "print(results)"
   ]
  },
  {
   "cell_type": "markdown",
   "id": "b029b3e0",
   "metadata": {},
   "source": [
    "`symfit` has used SLSQP because of the constraint, and we see that we have high accuracy on this constraint. Let us print the reconstructed rotor and it's norm. Furthermore, we can now apply $\\widetilde{R}$ to $q$ to transform it back to the location of $p$ so we can visually inspect the quality of the reconstruction."
   ]
  },
  {
   "cell_type": "code",
   "execution_count": 15,
   "id": "2f072bec",
   "metadata": {},
   "outputs": [
    {
     "name": "stdout",
     "output_type": "stream",
     "text": [
      "0.503 + -0.433 𝐞₀₁ + -0.25 𝐞₀₂ + 0.864 𝐞₁₂\n",
      "1.0\n"
     ]
    }
   ],
   "source": [
    "R_re = R_par(**results.params)\n",
    "print(R_re)\n",
    "print(R_re.normsq())"
   ]
  },
  {
   "cell_type": "code",
   "execution_count": 16,
   "id": "8d0e25ed",
   "metadata": {},
   "outputs": [],
   "source": [
    "p_reconstructed = (~R_re) >> q"
   ]
  },
  {
   "cell_type": "code",
   "execution_count": 17,
   "id": "d8059b46",
   "metadata": {},
   "outputs": [
    {
     "data": {
      "application/vnd.jupyter.widget-view+json": {
       "model_id": "d9ae202cd643496791126ed7c3e29a66",
       "version_major": 2,
       "version_minor": 0
      },
      "text/plain": [
       "GraphWidget(cayley=[['1', 'e0', 'e1', 'e2', 'e01', 'e02', 'e12', 'e012'], ['e0', '0', 'e01', 'e02', '0', '0', …"
      ]
     },
     "execution_count": 17,
     "metadata": {},
     "output_type": "execute_result"
    }
   ],
   "source": [
    "from timeit import default_timer\n",
    "\n",
    "def animate_q():\n",
    "    \"\"\" Make cloud q rotate towards p. \"\"\"\n",
    "    s0 = R_re.grade(2).norm().e\n",
    "    t0 = np.arctan2(s0, R_re.e)\n",
    "    logR = R_re.grade(2) / s0\n",
    "    t = t0 * (np.sin(default_timer() / 2) + 1 ) / 2 # [0, t0]\n",
    "    \n",
    "    R = np.cos(t) + logR * np.sin(t)\n",
    "    return ~R >> q\n",
    "\n",
    "alg.graph(\n",
    "    0xff0000, p,\n",
    "    0x0000ff, q, 'q', \n",
    "    0x880088, p_reconstructed, 'p reconstructed',\n",
    "    0x000000, R_re.grade(2), 'reconst. axis',\n",
    "    animate_q, 'q',\n",
    "    animate=True,\n",
    "    scale=1.0,\n",
    ")"
   ]
  },
  {
   "cell_type": "markdown",
   "id": "910a5aea",
   "metadata": {},
   "source": [
    "We see that we have excellent agreement between the original and reconstructed pointclouds."
   ]
  },
  {
   "cell_type": "code",
   "execution_count": null,
   "id": "df7ba23a",
   "metadata": {},
   "outputs": [],
   "source": []
  },
  {
   "cell_type": "code",
   "execution_count": null,
   "id": "8cfb042f",
   "metadata": {},
   "outputs": [],
   "source": []
  }
 ],
 "metadata": {
  "kernelspec": {
   "display_name": "Python 3 (ipykernel)",
   "language": "python",
   "name": "python3"
  },
  "language_info": {
   "codemirror_mode": {
    "name": "ipython",
    "version": 3
   },
   "file_extension": ".py",
   "mimetype": "text/x-python",
   "name": "python",
   "nbconvert_exporter": "python",
   "pygments_lexer": "ipython3",
   "version": "3.10.14"
  }
 },
 "nbformat": 4,
 "nbformat_minor": 5
}
