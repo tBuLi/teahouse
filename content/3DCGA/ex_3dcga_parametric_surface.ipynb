{
  "metadata": {
    "kernelspec": {
      "name": "python",
      "display_name": "Python (Pyodide)",
      "language": "python"
    },
    "language_info": {
      "codemirror_mode": {
        "name": "python",
        "version": 3
      },
      "file_extension": ".py",
      "mimetype": "text/x-python",
      "name": "python",
      "nbconvert_exporter": "python",
      "pygments_lexer": "ipython3",
      "version": "3.8"
    }
  },
  "nbformat_minor": 4,
  "nbformat": 4,
  "cells": [
    {
      "cell_type": "markdown",
      "source": "# Paraboloid surface in kingdon\n\nBased on https://enki.ws/ganja.js/examples/coffeeshop.html#Qv7GspjJ1R",
      "metadata": {}
    },
    {
      "cell_type": "markdown",
      "source": "First we create 3DCGA, and add its basis blades to the local namespace.",
      "metadata": {}
    },
    {
      "cell_type": "code",
      "source": "%pip install -q kingdon anywidget==0.9.9 ipywidgets==8.1.3",
      "metadata": {
        "trusted": true
      },
      "outputs": [],
      "execution_count": 1
    },
    {
      "cell_type": "code",
      "source": "from kingdon import Algebra\nfrom itertools import chain\n\nalg = Algebra(4, 1)\nlocals().update(alg.blades)",
      "metadata": {
        "trusted": true
      },
      "outputs": [],
      "execution_count": 21
    },
    {
      "cell_type": "markdown",
      "source": "We start by defining a null basis, and upcasting for points.",
      "metadata": {}
    },
    {
      "cell_type": "code",
      "source": "ni = e4 + e5\nno = 0.5 * (e5 - e4)\nnino = ni ^ no\nup = lambda x: no + x + 0.5 * x * x * ni\n\ndef point(x, y, z): \n    return up(alg.vector(e1=x, e2=y, e3=z))\n\ndef para(x, y):\n    return point(x, x**2 + y**2, y)",
      "metadata": {
        "trusted": true
      },
      "outputs": [],
      "execution_count": 4
    },
    {
      "cell_type": "markdown",
      "source": "Next we'll define our parabolic surface as points in CGA, and connect them together in a triangle mesh.",
      "metadata": {}
    },
    {
      "cell_type": "code",
      "source": "points = [[para(i/12-1, j/12-1) for j in range(25)] for i in range(25)]\nfaces  = [\n    [[points[i][j], points[i][j+1], points[i+1][j]],\n     [points[i][j+1], points[i+1][j+1], points[i+1][j]]\n    ] for j in range(24) for i in range(24)\n]",
      "metadata": {
        "trusted": true
      },
      "outputs": [],
      "execution_count": 19
    },
    {
      "cell_type": "code",
      "source": "alg.graph(\n    0x009977,\n    *chain(*faces),\n    0xff9900, alg.blades.e2.dual(),\n    conformal=True,\n    gl=True,\n    width='100%',\n    height='100%',\n    p=-0.2,\n    h=0.4,\n    scale=0.4,\n)",
      "metadata": {
        "trusted": true
      },
      "outputs": [
        {
          "execution_count": 28,
          "output_type": "execute_result",
          "data": {
            "text/plain": "GraphWidget(cayley=[['1', 'e1', 'e2', 'e3', 'e4', 'e5', 'e12', 'e13', 'e14', 'e15', 'e23', 'e24', 'e25', 'e34'…",
            "application/vnd.jupyter.widget-view+json": {
              "version_major": 2,
              "version_minor": 1,
              "model_id": "e5a7a92514784ca9b9618a0874bbd28c"
            }
          },
          "metadata": {}
        }
      ],
      "execution_count": 28
    },
    {
      "cell_type": "code",
      "source": "",
      "metadata": {},
      "outputs": [],
      "execution_count": null
    },
    {
      "cell_type": "code",
      "source": "",
      "metadata": {},
      "outputs": [],
      "execution_count": null
    }
  ]
}