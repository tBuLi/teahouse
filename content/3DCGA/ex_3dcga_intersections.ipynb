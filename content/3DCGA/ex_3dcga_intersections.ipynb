{
 "cells": [
  {
   "cell_type": "markdown",
   "metadata": {},
   "source": [
    "# 3DCGA: Intersections\n",
    "\n",
    "Based on https://enki.ws/ganja.js/examples/coffeeshop.html#cga3d_intersections."
   ]
  },
  {
   "cell_type": "markdown",
   "metadata": {},
   "source": [
    "First we create 3DCGA, and add its basis blades to the local namespace."
   ]
  },
  {
   "cell_type": "code",
   "execution_count": 1,
   "metadata": {},
   "outputs": [],
   "source": [
    "from kingdon import Algebra\n",
    "\n",
    "alg = Algebra(4, 1)\n",
    "locals().update(alg.blades)"
   ]
  },
  {
   "cell_type": "markdown",
   "metadata": {},
   "source": [
    "We start by defining a null basis, and upcasting for points"
   ]
  },
  {
   "cell_type": "code",
   "execution_count": 2,
   "metadata": {},
   "outputs": [],
   "source": [
    "ni = e4 + e5\n",
    "no = 0.5 * (e5 - e4)\n",
    "nino = ni ^ no\n",
    "up = lambda x: no + x + 0.5 * x * x * ni"
   ]
  },
  {
   "cell_type": "markdown",
   "metadata": {},
   "source": [
    "Next we'll define some objects."
   ]
  },
  {
   "cell_type": "code",
   "execution_count": 3,
   "metadata": {},
   "outputs": [],
   "source": [
    "p  = up(0)                          # point\n",
    "S  = (p - 0.5 * ni).dual()                 # main dual sphere around point (interactive)\n",
    "S2 = (up(-1.4*e1) - 0.125 * ni).dual()         # left dual sphere\n",
    "C  = (up(1.4*e1) - 0.125 * ni).dual() & e3.dual()    # right circle\n",
    "L  = up(0.9*e2) ^ up(0.9*e2 - 1*e1) ^ ni       # top line\n",
    "P  = (1*e2 - 0.9*ni).dual()                   # bottom dual plane\n",
    "P2 = (1*e1 + 1.7*ni).dual()                   # right dual plane"
   ]
  },
  {
   "cell_type": "code",
   "execution_count": 4,
   "metadata": {},
   "outputs": [],
   "source": [
    "C1 = S & P\n",
    "C2 = S & L\n",
    "C3 = S & S2\n",
    "C4 = S & C\n",
    "C5 = C & P2\n",
    "lp = up(nino.lc(P2 & (L ^ no)))"
   ]
  },
  {
   "cell_type": "code",
   "execution_count": 5,
   "metadata": {},
   "outputs": [
    {
     "data": {
      "application/vnd.jupyter.widget-view+json": {
       "model_id": "86b78d5eff314cadbaa1583e6a5a9f41",
       "version_major": 2,
       "version_minor": 0
      },
      "text/plain": [
       "GraphWidget(cayley=[['1', 'e1', 'e2', 'e3', 'e4', 'e5', 'e12', 'e13', 'e14', 'e15', 'e23', 'e24', 'e25', 'e34'…"
      ]
     },
     "execution_count": 5,
     "metadata": {},
     "output_type": "execute_result"
    }
   ],
   "source": [
    "alg.graph(\n",
    "    0x00FF0000, p, \"s1\",             # point \n",
    "    0xFF00FF,lp,\"l&p\",               # line intersect plane\n",
    "    0x0000FF,C1,\"s&p\",               # sphere meet plane\n",
    "    0x888800,C2,\"s&l\",               # sphere meet line\n",
    "    0x0088FF,C3,\"s&s\",               # sphere meet sphere\n",
    "    0x008800,C4,\"s&c\",               # sphere meet circle\n",
    "    0x880000,C5,\"c&p\",               # circle meet sphere\n",
    "    0,L,0,C,                         # line and circle\n",
    "    0xE0008800, P, P2,               # plane\n",
    "    0xE0FFFFFF, S, \"s1\", S2,         # spheres\n",
    "    conformal=1,\n",
    "    grid=1,\n",
    "    gl=1,\n",
    ")"
   ]
  },
  {
   "cell_type": "code",
   "execution_count": null,
   "metadata": {},
   "outputs": [],
   "source": []
  }
 ],
 "metadata": {
  "kernelspec": {
   "display_name": "Python 3 (ipykernel)",
   "language": "python",
   "name": "python3"
  },
  "language_info": {
   "codemirror_mode": {
    "name": "ipython",
    "version": 3
   },
   "file_extension": ".py",
   "mimetype": "text/x-python",
   "name": "python",
   "nbconvert_exporter": "python",
   "pygments_lexer": "ipython3",
   "version": "3.10.13"
  }
 },
 "nbformat": 4,
 "nbformat_minor": 4
}
