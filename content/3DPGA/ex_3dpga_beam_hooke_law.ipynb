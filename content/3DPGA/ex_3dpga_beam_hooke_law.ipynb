{
 "cells": [
  {
   "cell_type": "markdown",
   "metadata": {},
   "source": [
    "# PGA DYN - Double Hooke\n",
    "\n",
    "This notebook implements the final example from the [\"May The Forque Be With You\"](https://enki.ws/ganja.js/examples/pga_dyn.html) implementation supplement to [PGAdyn](https://bivector.net/PGADYN.html).\n",
    "\n",
    "In this example we will dangle a block from two different strings.\n",
    "The main purpose of this example is to demonstrate how to implement a non-trivial inertia tensors in `kingdon`. For more detail on PGA itself we still highly recommend the recources linked above. The `ganja.js` code should be legible for an experienced `kingdon` user."
   ]
  },
  {
   "cell_type": "code",
   "execution_count": 1,
   "metadata": {},
   "outputs": [
    {
     "name": "stdout",
     "output_type": "stream",
     "text": [
      "Note: you may need to restart the kernel to use updated packages.\n"
     ]
    }
   ],
   "source": [
    "%pip install -q kingdon anywidget==0.9.9 ipywidgets==8.1.3"
   ]
  },
  {
   "cell_type": "code",
   "execution_count": 2,
   "metadata": {},
   "outputs": [],
   "source": [
    "from kingdon import Algebra\n",
    "\n",
    "alg = Algebra(3, 0, 1)\n",
    "globals().update(alg.blades)"
   ]
  },
  {
   "cell_type": "markdown",
   "metadata": {},
   "source": [
    "As an integrator we will use the Runge–Kutta method:"
   ]
  },
  {
   "cell_type": "code",
   "execution_count": 3,
   "metadata": {},
   "outputs": [],
   "source": [
    "def RK4(f, y, h):\n",
    "    k1 = f(*y)\n",
    "    k2 = f(*[yi + 0.5*h*k1i for yi, k1i in zip(y, k1)])\n",
    "    k3 = f(*[yi + 0.5*h*k2i for yi, k2i in zip(y, k2)])\n",
    "    k4 = f(*[yi + h*k3i for yi, k3i in zip(y, k3)])\n",
    "    return [yi + (h/3)*(k2i + k3i + (k1i + k4i)*0.5) \n",
    "            for yi, k1i, k2i, k3i, k4i in zip(y, k1, k2, k3, k4)]"
   ]
  },
  {
   "cell_type": "markdown",
   "metadata": {},
   "source": [
    "Then we have to define a box:"
   ]
  },
  {
   "cell_type": "code",
   "execution_count": 4,
   "metadata": {},
   "outputs": [],
   "source": [
    "d = 3\n",
    "size = [0.2, 1, 0.2]\n",
    "vertexes = [\n",
    "    alg.vector([1, *[s*(((i>>j)%2)-0.5) for j, s in enumerate(size)]]).dual()\n",
    "    for i in range(2**d)\n",
    "]\n",
    "faces = [\n",
    "    0xCC00FF,[0,1,2],[1,2,3],\n",
    "    0x0400ff,[4,5,6],[5,6,7],\n",
    "    0xfbff00,[0,1,4],[4,5,1],\n",
    "    0xffa200,[2,6,7],[2,3,7],\n",
    "    0x44ff00,[0,4,2],[4,2,6],\n",
    "    0x00aaff,[1,5,7],[1,3,7]\n",
    "]\n",
    "faces = [\n",
    "    [vertexes[i] for i in x] if isinstance(x, list) else x\n",
    "     for x in faces\n",
    "]"
   ]
  },
  {
   "cell_type": "markdown",
   "metadata": {},
   "source": [
    "The inertia tensor in the body frame can be encoded in a single bivector $I$:"
   ]
  },
  {
   "cell_type": "code",
   "execution_count": 5,
   "metadata": {},
   "outputs": [
    {
     "data": {
      "text/plain": [
       "0.0867 𝐞₀₁ + 0.00667 𝐞₀₂ + 0.0867 𝐞₀₃ + 1.0 𝐞₁₂ + 1.0 𝐞₁₃ + 1.0 𝐞₂₃"
      ]
     },
     "execution_count": 5,
     "metadata": {},
     "output_type": "execute_result"
    }
   ],
   "source": [
    "mass = 1\n",
    "I = 1/12*mass*( \n",
    "    (size[1]**2+size[2]**2)*e01 + \n",
    "    (size[2]**2+size[0]**2)*e02 + \n",
    "    (size[0]**2+size[1]**2)*e03 + \n",
    "    12*e12 + 12*e13 + 12*e23\n",
    ")\n",
    "I"
   ]
  },
  {
   "cell_type": "markdown",
   "metadata": {},
   "source": [
    "The (inverse) inertia map can be applied to the rate bivector $B$ in the body frame."
   ]
  },
  {
   "cell_type": "code",
   "execution_count": 6,
   "metadata": {},
   "outputs": [],
   "source": [
    "A  = lambda B: B.dual().map(lambda k, v: v * getattr(I, alg.bin2canon[k]))\n",
    "Ai = lambda B: B.map(lambda k, v: v / getattr(I, alg.bin2canon[k])).undual()"
   ]
  },
  {
   "cell_type": "markdown",
   "metadata": {},
   "source": [
    "We can now define the two attachement points and describe how the motor $M$ and rate bivector $B$ are updated by the integrator."
   ]
  },
  {
   "cell_type": "code",
   "execution_count": 7,
   "metadata": {},
   "outputs": [],
   "source": [
    "attach  = vertexes[5] + e2.dual()\n",
    "attach2 = vertexes[1] + e2.dual() + 0.5*e1.dual()\n",
    "\n",
    "# Uncomment the line @alg.register(symbolic=True) to make the forque computation ~25x faster.\n",
    "# However this breaks animation interactivity because attach & attach2 are not variables of the function.\n",
    "# It is good to be aware that such a significant speed-up is available however.\n",
    "# @alg.register(symbolic=True)\n",
    "def forques(M, B):\n",
    "    Gravity = (~M >> -9.81*e02).dual()\n",
    "    Damping = -0.25 * B.grade(2).dual()\n",
    "    Hooke = -8*(~M >> attach) & vertexes[5]\n",
    "    Hooke2 = -8*(~M >> attach2) & vertexes[1]\n",
    "    return (Gravity + Hooke + Hooke2 + Damping).grade(2)  # Ensure a pure bivector because in kingdon<=1.1.0, >> doesn't. Maybe this will change in the future.\n",
    "\n",
    "# Change in M and B\n",
    "dState = lambda M, B: [\n",
    "    -0.5 * M * B,\n",
    "    Ai(forques(M, B) - A(B).cp(B))\n",
    "]"
   ]
  },
  {
   "cell_type": "markdown",
   "metadata": {},
   "source": [
    "Finally we are ready to create an animation of a block on two springs."
   ]
  },
  {
   "cell_type": "code",
   "execution_count": 8,
   "metadata": {},
   "outputs": [
    {
     "data": {
      "application/vnd.jupyter.widget-view+json": {
       "model_id": "c4bd48f8d7de4fd8ac751d2027cce342",
       "version_major": 2,
       "version_minor": 1
      },
      "text/plain": [
       "GraphWidget(cayley=[['1', 'e0', 'e1', 'e2', 'e3', 'e01', 'e02', 'e03', 'e12', 'e13', 'e23', 'e012', 'e013', 'e…"
      ]
     },
     "execution_count": 8,
     "metadata": {},
     "output_type": "execute_result"
    }
   ],
   "source": [
    "state  = [1-0.5*e02, 38.35*e13 + 35.27*e12 - 5*e01]\n",
    "\n",
    "def graph_func():\n",
    "    global state\n",
    "    \n",
    "    state = RK4(dState, state, 0.01)\n",
    "    new_faces = [\n",
    "        [state[0] >> point for point in x] if isinstance(x, list) else x\n",
    "         for x in faces\n",
    "    ]\n",
    "\n",
    "    return [\n",
    "        0xCC00FF,\n",
    "        *new_faces,\n",
    "        0,\n",
    "        attach, \n",
    "        attach2,\n",
    "        [attach, state[0] >> vertexes[5]],\n",
    "        [attach2, state[0] >> vertexes[1]],\n",
    "    ]\n",
    "\n",
    "alg.graph(\n",
    "    graph_func,\n",
    "    animate=True,\n",
    "    lineWidth=2,\n",
    "    pointRadius=2,\n",
    "    alpha=1,\n",
    "    gl=1,\n",
    "    height='800px',\n",
    ")"
   ]
  },
  {
   "cell_type": "code",
   "execution_count": null,
   "metadata": {},
   "outputs": [],
   "source": []
  },
  {
   "cell_type": "code",
   "execution_count": null,
   "metadata": {},
   "outputs": [],
   "source": []
  }
 ],
 "metadata": {
  "kernelspec": {
   "display_name": "Python 3 (ipykernel)",
   "language": "python",
   "name": "python3"
  },
  "language_info": {
   "codemirror_mode": {
    "name": "ipython",
    "version": 3
   },
   "file_extension": ".py",
   "mimetype": "text/x-python",
   "name": "python",
   "nbconvert_exporter": "python",
   "pygments_lexer": "ipython3",
   "version": "3.10.15"
  }
 },
 "nbformat": 4,
 "nbformat_minor": 4
}
