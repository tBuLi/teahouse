{
 "cells": [
  {
   "cell_type": "markdown",
   "metadata": {},
   "source": [
    "# 3DPGA: Points and lines\n",
    "\n",
    "Based on https://enki.ws/ganja.js/examples/coffeeshop.html#pga3d_points_and_lines."
   ]
  },
  {
   "cell_type": "markdown",
   "metadata": {},
   "source": [
    "First we create 3DPGA, and add its basis blades to the local namespace."
   ]
  },
  {
   "cell_type": "code",
   "execution_count": 1,
   "metadata": {},
   "outputs": [],
   "source": [
    "from kingdon import Algebra\n",
    "\n",
    "alg = Algebra(3, 0, 1)\n",
    "locals().update(alg.blades)"
   ]
  },
  {
   "cell_type": "markdown",
   "metadata": {},
   "source": [
    "Next, make formulas to construct points and planes from coefficients."
   ]
  },
  {
   "cell_type": "code",
   "execution_count": 2,
   "metadata": {},
   "outputs": [],
   "source": [
    "# Construct points and lines from coefficients\n",
    "point = lambda x, y, z: (e0 + x*e1 + y*e2 + z*e3).dual()\n",
    "plane = lambda a, b, c, d: a*e1 + b*e2 + c*e3 + d*e0"
   ]
  },
  {
   "cell_type": "markdown",
   "metadata": {},
   "source": [
    "Lets define some points to demonstrate basic incidence and rendering."
   ]
  },
  {
   "cell_type": "code",
   "execution_count": 3,
   "metadata": {},
   "outputs": [],
   "source": [
    "A = point(0,.8,0)\n",
    "B = point(.8,-1,-.8)\n",
    "C = point(-.8,-1,-.8)\n",
    "D = point(.8,-1,.8)\n",
    "E = point(-.8,-1,.8)"
   ]
  },
  {
   "cell_type": "code",
   "execution_count": 4,
   "metadata": {},
   "outputs": [
    {
     "data": {
      "application/vnd.jupyter.widget-view+json": {
       "model_id": "8bf26b3458024146873ff134e0560a53",
       "version_major": 2,
       "version_minor": 0
      },
      "text/plain": [
       "GraphWidget(cayley=[['1', 'e0', 'e1', 'e2', 'e3', 'e01', 'e02', 'e03', 'e12', 'e13', 'e23', 'e012', 'e013', 'e…"
      ]
     },
     "execution_count": 4,
     "metadata": {},
     "output_type": "execute_result"
    }
   ],
   "source": [
    "def graph_func():\n",
    "    # Points can be joined into lines and planes\n",
    "    ec = E & C\n",
    "    p = A & B & C\n",
    "\n",
    "    # Sum points to get the average position.\n",
    "    avg = A + B + E\n",
    "    bc = B + C\n",
    "\n",
    "    # Join (&) points into lines\n",
    "    l = avg & bc\n",
    "\n",
    "    # Intersect a line and a plane into a point.\n",
    "    intersect = l ^ (A & E & D)\n",
    "\n",
    "    # Sum lines to get average lines.\n",
    "    l2 = l.normalized() + ec.normalized()\n",
    "    \n",
    "    return [\n",
    "        0xD0FFE1, [A,B,D],                                           # polygons\n",
    "        0x00AA88, [A,B],[A,C],[A,D],[A,E],[B,C],[C,E],[E,D],[D,B],   # edges\n",
    "        0x224488, A,\"A\",B,\"B\",C,\"C\",D,\"D\",E,\"E\",                     # points\n",
    "        0x884488, ec,\"E&C\", p*0.1,\"A&B&C\",                           # join of points\n",
    "        0x884488, bc, \"B+C\", avg, \"A+B+E\", l,                        # sum of points\n",
    "        0x00AA88, intersect, \"line ^ plane\",                         # meets\n",
    "        0xFF8844, l2, \"sum of lines\",                                # sum of lines.\n",
    "    ]\n",
    "    \n",
    "alg.graph(\n",
    "    graph_func,\n",
    "    lineWidth=3, \n",
    "    grid=1, \n",
    "    labels=1, \n",
    "    h=0.6, \n",
    "    p=-0.15, \n",
    "    pointRadius=1,\n",
    "    fontSize=1,\n",
    "    scale=1,\n",
    ")"
   ]
  },
  {
   "cell_type": "code",
   "execution_count": null,
   "metadata": {},
   "outputs": [],
   "source": []
  }
 ],
 "metadata": {
  "kernelspec": {
   "display_name": "Python 3 (ipykernel)",
   "language": "python",
   "name": "python3"
  },
  "language_info": {
   "codemirror_mode": {
    "name": "ipython",
    "version": 3
   },
   "file_extension": ".py",
   "mimetype": "text/x-python",
   "name": "python",
   "nbconvert_exporter": "python",
   "pygments_lexer": "ipython3",
   "version": "3.10.13"
  }
 },
 "nbformat": 4,
 "nbformat_minor": 4
}
