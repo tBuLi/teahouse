{
 "cells": [
  {
   "cell_type": "markdown",
   "id": "08cb45df-7f55-4721-bd02-430d5ecc1a5a",
   "metadata": {},
   "source": [
    "# 2DPGA: Distances and Angles"
   ]
  },
  {
   "cell_type": "code",
   "execution_count": 1,
   "id": "44970c6f-a9e1-4e4e-b837-9894f6f11eb1",
   "metadata": {},
   "outputs": [],
   "source": [
    "from kingdon import Algebra\n",
    "import math\n",
    "\n",
    "alg = Algebra(3, 0, 1)"
   ]
  },
  {
   "cell_type": "code",
   "execution_count": 2,
   "id": "d8869875-55fd-4213-9ff0-be424c30dbaf",
   "metadata": {},
   "outputs": [],
   "source": [
    "point = lambda x, y, z: alg.vector(e0=1, e1=x, e2=y, e3=z).dual()\n",
    "plane = lambda a, b, c, d: alg.vector(e1=a, e2=b, e3=c, e0=d)"
   ]
  },
  {
   "cell_type": "markdown",
   "id": "147302a3-6be5-4d31-a2be-efe310578a0d",
   "metadata": {},
   "source": [
    "Useful distances formulea:"
   ]
  },
  {
   "cell_type": "code",
   "execution_count": 3,
   "id": "62209c50-568c-48a5-a04e-3a839cbc7f4f",
   "metadata": {},
   "outputs": [],
   "source": [
    "def dist_pp(P1, P2) -> float:  # point to point\n",
    "    return (P1.normalized() & P2.normalized()).norm().e\n",
    "\n",
    "def dist_pP(P, p) -> float:  # point to plane\n",
    "    return (P.normalized() & p.normalized()).norm().e\n",
    "\n",
    "def dist_ll(l1,l2) -> float:  # line to line\n",
    "    return (l1.normalized() * l2.normalized()).dual().norm().e"
   ]
  },
  {
   "cell_type": "markdown",
   "id": "53b52da2-b3f1-4ff5-9149-1b2c90e33dbb",
   "metadata": {},
   "source": [
    "Useful angle formulea; notice that they are identical:"
   ]
  },
  {
   "cell_type": "code",
   "execution_count": 4,
   "id": "1deed02c-6e70-44c2-a5d5-5fbfff40e33a",
   "metadata": {},
   "outputs": [],
   "source": [
    "def angle_pp(p1,p2):  # Angle between planes\n",
    "    return math.acos((p1.normalized() | p2.normalized()).e) * 180 / math.pi\n",
    "\n",
    "def angle_ll(l1,l2):  # Angle between lines\n",
    "    return math.acos((l1.normalized() | l2.normalized()).e) * 180 / math.pi"
   ]
  },
  {
   "cell_type": "code",
   "execution_count": null,
   "id": "3f031e74-19af-46af-b899-247f6d96f50a",
   "metadata": {},
   "outputs": [],
   "source": []
  },
  {
   "cell_type": "code",
   "execution_count": 5,
   "id": "49e28000-a99c-437c-bfb1-8756ac517ed8",
   "metadata": {},
   "outputs": [],
   "source": [
    "# Create 5 points.\n",
    "A = point(0,.8,0)\n",
    "B = point(.8,-1,-.8)\n",
    "C = point(-.8,-1,-.8)\n",
    "D = point(.8,-1,.8)\n",
    "E = point(-.8,-1,.8)\n",
    "\n",
    "# Our ground plane\n",
    "a = B & C & D\n",
    "\n",
    "# Our camera position and orientation.\n",
    "camera = alg.evenmv(e=1, e13=1).normalized()"
   ]
  },
  {
   "cell_type": "code",
   "execution_count": 6,
   "id": "c854eaf8-12f7-42f6-863e-452f28ef1c37",
   "metadata": {},
   "outputs": [
    {
     "data": {
      "application/vnd.jupyter.widget-view+json": {
       "model_id": "d728ab2cf92343c4af251c9ed4744530",
       "version_major": 2,
       "version_minor": 0
      },
      "text/plain": [
       "GraphWidget(cayley=[['1', 'e0', 'e1', 'e2', 'e3', 'e01', 'e02', 'e03', 'e12', 'e13', 'e23', 'e012', 'e013', 'e…"
      ]
     },
     "execution_count": 6,
     "metadata": {},
     "output_type": "execute_result"
    }
   ],
   "source": [
    "from timeit import default_timer\n",
    "\n",
    "def graph_func():\n",
    "    time = default_timer() / 5\n",
    "    A = point(0, math.sin(time*4), 0)\n",
    "    # camera = (math.cos(time) + math.sin(time)*alg.blades.e13)                     # rotate around Y \n",
    "    return [\n",
    "        0xD0FFE1,[A,B,C],                                            # graph on face\n",
    "        0x00AA88,[A,B],[A,C],[A,D],[B,C],[B,D],[C,E],[A,E],[E,D],    # graph all edges\n",
    "        0x444444,A,\"A\",B,\"B\",C,\"C\",D,\"D\",E,\"E\",                      # graph all vertices\n",
    "        0xFF8844,[A,E], f\"{dist_pp(A,E):.2f}\",                      # distance A to E\n",
    "        0x224488,[A,B+E], f\"{dist_pP(A,a):.2f}\",                    # distance A to a\n",
    "        0x44aa44,C+E, f\"{dist_ll(C&E,D&B):.2f}\",                    # distance CE to DB\n",
    "        0x44aaff,[A+D+E,B+C+5*D+5*E,D+E], f\"{angle_pp(A&E&D, a):.2f}\"+\"&deg;\",   # angle planes.\n",
    "        0x884488,[A,2*A+D,2*A+B],f\"{angle_ll(A&D, B&A):.2f}\"+\"&deg;\"\n",
    "    ]\n",
    "\n",
    "alg.graph(\n",
    "    graph_func, \n",
    "    animate=True, grid=True, labels=True, lineWidth=3, \n",
    "    # camera=camera,\n",
    ")"
   ]
  },
  {
   "cell_type": "code",
   "execution_count": null,
   "id": "fa96e8c9-1732-430a-acd4-2c3856a8920a",
   "metadata": {},
   "outputs": [],
   "source": []
  }
 ],
 "metadata": {
  "kernelspec": {
   "display_name": "Python 3 (ipykernel)",
   "language": "python",
   "name": "python3"
  },
  "language_info": {
   "codemirror_mode": {
    "name": "ipython",
    "version": 3
   },
   "file_extension": ".py",
   "mimetype": "text/x-python",
   "name": "python",
   "nbconvert_exporter": "python",
   "pygments_lexer": "ipython3",
   "version": "3.10.13"
  }
 },
 "nbformat": 4,
 "nbformat_minor": 5
}
